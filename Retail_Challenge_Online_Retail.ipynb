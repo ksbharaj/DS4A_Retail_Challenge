{
 "cells": [
  {
   "cell_type": "code",
   "execution_count": 1,
   "metadata": {},
   "outputs": [],
   "source": [
    "## Import packages required for the project\n",
    "import pandas as pd\n",
    "import numpy as np\n",
    "\n",
    "import datetime as dt\n",
    "import seaborn as sns"
   ]
  },
  {
   "cell_type": "code",
   "execution_count": 2,
   "metadata": {},
   "outputs": [],
   "source": [
    "## Import the two sheets of the excel file, and concatenate them into one dataframe\n",
    "## PLEASE CHANGE FILE LOCATION ACCORDINGLY\n",
    "excel_location = r\"C:\\Users\\ksbha\\Documents\\Python Scripts\\DS4A\\DS\\online_retail_II.xlsx\"\n",
    "data = pd.read_excel(excel_location)\n",
    "data2 = pd.read_excel(excel_location, sheet_name=\"Year 2010-2011\")\n",
    "\n",
    "data = pd.concat([data, data2])"
   ]
  },
  {
   "cell_type": "code",
   "execution_count": 3,
   "metadata": {},
   "outputs": [
    {
     "data": {
      "text/html": [
       "<div>\n",
       "<style scoped>\n",
       "    .dataframe tbody tr th:only-of-type {\n",
       "        vertical-align: middle;\n",
       "    }\n",
       "\n",
       "    .dataframe tbody tr th {\n",
       "        vertical-align: top;\n",
       "    }\n",
       "\n",
       "    .dataframe thead th {\n",
       "        text-align: right;\n",
       "    }\n",
       "</style>\n",
       "<table border=\"1\" class=\"dataframe\">\n",
       "  <thead>\n",
       "    <tr style=\"text-align: right;\">\n",
       "      <th></th>\n",
       "      <th>Invoice</th>\n",
       "      <th>StockCode</th>\n",
       "      <th>Description</th>\n",
       "      <th>Quantity</th>\n",
       "      <th>InvoiceDate</th>\n",
       "      <th>Price</th>\n",
       "      <th>Customer ID</th>\n",
       "      <th>Country</th>\n",
       "    </tr>\n",
       "  </thead>\n",
       "  <tbody>\n",
       "    <tr>\n",
       "      <th>0</th>\n",
       "      <td>489434</td>\n",
       "      <td>85048</td>\n",
       "      <td>15CM CHRISTMAS GLASS BALL 20 LIGHTS</td>\n",
       "      <td>12</td>\n",
       "      <td>2009-12-01 07:45:00</td>\n",
       "      <td>6.95</td>\n",
       "      <td>13085.0</td>\n",
       "      <td>United Kingdom</td>\n",
       "    </tr>\n",
       "    <tr>\n",
       "      <th>1</th>\n",
       "      <td>489434</td>\n",
       "      <td>79323P</td>\n",
       "      <td>PINK CHERRY LIGHTS</td>\n",
       "      <td>12</td>\n",
       "      <td>2009-12-01 07:45:00</td>\n",
       "      <td>6.75</td>\n",
       "      <td>13085.0</td>\n",
       "      <td>United Kingdom</td>\n",
       "    </tr>\n",
       "    <tr>\n",
       "      <th>2</th>\n",
       "      <td>489434</td>\n",
       "      <td>79323W</td>\n",
       "      <td>WHITE CHERRY LIGHTS</td>\n",
       "      <td>12</td>\n",
       "      <td>2009-12-01 07:45:00</td>\n",
       "      <td>6.75</td>\n",
       "      <td>13085.0</td>\n",
       "      <td>United Kingdom</td>\n",
       "    </tr>\n",
       "    <tr>\n",
       "      <th>3</th>\n",
       "      <td>489434</td>\n",
       "      <td>22041</td>\n",
       "      <td>RECORD FRAME 7\" SINGLE SIZE</td>\n",
       "      <td>48</td>\n",
       "      <td>2009-12-01 07:45:00</td>\n",
       "      <td>2.10</td>\n",
       "      <td>13085.0</td>\n",
       "      <td>United Kingdom</td>\n",
       "    </tr>\n",
       "    <tr>\n",
       "      <th>4</th>\n",
       "      <td>489434</td>\n",
       "      <td>21232</td>\n",
       "      <td>STRAWBERRY CERAMIC TRINKET BOX</td>\n",
       "      <td>24</td>\n",
       "      <td>2009-12-01 07:45:00</td>\n",
       "      <td>1.25</td>\n",
       "      <td>13085.0</td>\n",
       "      <td>United Kingdom</td>\n",
       "    </tr>\n",
       "  </tbody>\n",
       "</table>\n",
       "</div>"
      ],
      "text/plain": [
       "  Invoice StockCode                          Description  Quantity   \n",
       "0  489434     85048  15CM CHRISTMAS GLASS BALL 20 LIGHTS        12  \\\n",
       "1  489434    79323P                   PINK CHERRY LIGHTS        12   \n",
       "2  489434    79323W                  WHITE CHERRY LIGHTS        12   \n",
       "3  489434     22041         RECORD FRAME 7\" SINGLE SIZE         48   \n",
       "4  489434     21232       STRAWBERRY CERAMIC TRINKET BOX        24   \n",
       "\n",
       "          InvoiceDate  Price  Customer ID         Country  \n",
       "0 2009-12-01 07:45:00   6.95      13085.0  United Kingdom  \n",
       "1 2009-12-01 07:45:00   6.75      13085.0  United Kingdom  \n",
       "2 2009-12-01 07:45:00   6.75      13085.0  United Kingdom  \n",
       "3 2009-12-01 07:45:00   2.10      13085.0  United Kingdom  \n",
       "4 2009-12-01 07:45:00   1.25      13085.0  United Kingdom  "
      ]
     },
     "execution_count": 3,
     "metadata": {},
     "output_type": "execute_result"
    }
   ],
   "source": [
    "## Sanity check to see if the data is imported correctly\n",
    "data.head()"
   ]
  },
  {
   "cell_type": "code",
   "execution_count": 4,
   "metadata": {},
   "outputs": [],
   "source": [
    "##Reset the indices of our dataframe\n",
    "data.reset_index(inplace=True)"
   ]
  },
  {
   "cell_type": "code",
   "execution_count": 5,
   "metadata": {},
   "outputs": [],
   "source": [
    "## Analyzing the cancellations orders\n",
    "data_cancellations = data[data['Invoice'].str.contains('C', na=False)]"
   ]
  },
  {
   "cell_type": "code",
   "execution_count": 6,
   "metadata": {},
   "outputs": [
    {
     "data": {
      "text/html": [
       "<div>\n",
       "<style scoped>\n",
       "    .dataframe tbody tr th:only-of-type {\n",
       "        vertical-align: middle;\n",
       "    }\n",
       "\n",
       "    .dataframe tbody tr th {\n",
       "        vertical-align: top;\n",
       "    }\n",
       "\n",
       "    .dataframe thead th {\n",
       "        text-align: right;\n",
       "    }\n",
       "</style>\n",
       "<table border=\"1\" class=\"dataframe\">\n",
       "  <thead>\n",
       "    <tr style=\"text-align: right;\">\n",
       "      <th></th>\n",
       "      <th>index</th>\n",
       "      <th>Invoice</th>\n",
       "      <th>StockCode</th>\n",
       "      <th>Description</th>\n",
       "      <th>Quantity</th>\n",
       "      <th>InvoiceDate</th>\n",
       "      <th>Price</th>\n",
       "      <th>Customer ID</th>\n",
       "      <th>Country</th>\n",
       "    </tr>\n",
       "  </thead>\n",
       "  <tbody>\n",
       "    <tr>\n",
       "      <th>178</th>\n",
       "      <td>178</td>\n",
       "      <td>C489449</td>\n",
       "      <td>22087</td>\n",
       "      <td>PAPER BUNTING WHITE LACE</td>\n",
       "      <td>-12</td>\n",
       "      <td>2009-12-01 10:33:00</td>\n",
       "      <td>2.95</td>\n",
       "      <td>16321.0</td>\n",
       "      <td>Australia</td>\n",
       "    </tr>\n",
       "    <tr>\n",
       "      <th>179</th>\n",
       "      <td>179</td>\n",
       "      <td>C489449</td>\n",
       "      <td>85206A</td>\n",
       "      <td>CREAM FELT EASTER EGG BASKET</td>\n",
       "      <td>-6</td>\n",
       "      <td>2009-12-01 10:33:00</td>\n",
       "      <td>1.65</td>\n",
       "      <td>16321.0</td>\n",
       "      <td>Australia</td>\n",
       "    </tr>\n",
       "    <tr>\n",
       "      <th>180</th>\n",
       "      <td>180</td>\n",
       "      <td>C489449</td>\n",
       "      <td>21895</td>\n",
       "      <td>POTTING SHED SOW 'N' GROW SET</td>\n",
       "      <td>-4</td>\n",
       "      <td>2009-12-01 10:33:00</td>\n",
       "      <td>4.25</td>\n",
       "      <td>16321.0</td>\n",
       "      <td>Australia</td>\n",
       "    </tr>\n",
       "    <tr>\n",
       "      <th>181</th>\n",
       "      <td>181</td>\n",
       "      <td>C489449</td>\n",
       "      <td>21896</td>\n",
       "      <td>POTTING SHED TWINE</td>\n",
       "      <td>-6</td>\n",
       "      <td>2009-12-01 10:33:00</td>\n",
       "      <td>2.10</td>\n",
       "      <td>16321.0</td>\n",
       "      <td>Australia</td>\n",
       "    </tr>\n",
       "    <tr>\n",
       "      <th>182</th>\n",
       "      <td>182</td>\n",
       "      <td>C489449</td>\n",
       "      <td>22083</td>\n",
       "      <td>PAPER CHAIN KIT RETRO SPOT</td>\n",
       "      <td>-12</td>\n",
       "      <td>2009-12-01 10:33:00</td>\n",
       "      <td>2.95</td>\n",
       "      <td>16321.0</td>\n",
       "      <td>Australia</td>\n",
       "    </tr>\n",
       "  </tbody>\n",
       "</table>\n",
       "</div>"
      ],
      "text/plain": [
       "     index  Invoice StockCode                    Description  Quantity   \n",
       "178    178  C489449     22087       PAPER BUNTING WHITE LACE       -12  \\\n",
       "179    179  C489449    85206A   CREAM FELT EASTER EGG BASKET        -6   \n",
       "180    180  C489449     21895  POTTING SHED SOW 'N' GROW SET        -4   \n",
       "181    181  C489449     21896             POTTING SHED TWINE        -6   \n",
       "182    182  C489449     22083     PAPER CHAIN KIT RETRO SPOT       -12   \n",
       "\n",
       "            InvoiceDate  Price  Customer ID    Country  \n",
       "178 2009-12-01 10:33:00   2.95      16321.0  Australia  \n",
       "179 2009-12-01 10:33:00   1.65      16321.0  Australia  \n",
       "180 2009-12-01 10:33:00   4.25      16321.0  Australia  \n",
       "181 2009-12-01 10:33:00   2.10      16321.0  Australia  \n",
       "182 2009-12-01 10:33:00   2.95      16321.0  Australia  "
      ]
     },
     "execution_count": 6,
     "metadata": {},
     "output_type": "execute_result"
    }
   ],
   "source": [
    "data_cancellations.head()"
   ]
  },
  {
   "cell_type": "markdown",
   "metadata": {},
   "source": [
    "Cancellations show up as negative quantities in the Quantity column. I have chosen not to remove them from the dataframe as they will help us understand which customers are more likely to cancel orders."
   ]
  },
  {
   "cell_type": "code",
   "execution_count": 7,
   "metadata": {},
   "outputs": [],
   "source": [
    "## Not only should we remove the cancellations- we should also get rid of the original orders, because they yielded no revenue\n",
    "# data = data[data['Invoice'].str.contains('C', na=False) == False]\n",
    "# data_cancelled_order = data_cancellations.drop(['Invoice', 'index', 'InvoiceDate'], axis=1)\n",
    "# data_cancelled_order.Quantity = data_cancelled_order.Quantity * -1\n",
    "# data_cancelled_order\n",
    "# data = data.merge(data_cancelled_order, how='left', indicator=True)\n",
    "# data = data[data['_merge'] == 'left_only']\n",
    "# data = data.drop(['_merge'], axis=1)"
   ]
  },
  {
   "cell_type": "markdown",
   "metadata": {},
   "source": [
    "Since we want to analyze the customers, we should remove any transacitons that are not customer-related. \n",
    "One such transaction is those with a negative Price, which are included to adjust for \"bad debt\""
   ]
  },
  {
   "cell_type": "code",
   "execution_count": 8,
   "metadata": {},
   "outputs": [
    {
     "data": {
      "text/html": [
       "<div>\n",
       "<style scoped>\n",
       "    .dataframe tbody tr th:only-of-type {\n",
       "        vertical-align: middle;\n",
       "    }\n",
       "\n",
       "    .dataframe tbody tr th {\n",
       "        vertical-align: top;\n",
       "    }\n",
       "\n",
       "    .dataframe thead th {\n",
       "        text-align: right;\n",
       "    }\n",
       "</style>\n",
       "<table border=\"1\" class=\"dataframe\">\n",
       "  <thead>\n",
       "    <tr style=\"text-align: right;\">\n",
       "      <th></th>\n",
       "      <th>index</th>\n",
       "      <th>Invoice</th>\n",
       "      <th>StockCode</th>\n",
       "      <th>Description</th>\n",
       "      <th>Quantity</th>\n",
       "      <th>InvoiceDate</th>\n",
       "      <th>Price</th>\n",
       "      <th>Customer ID</th>\n",
       "      <th>Country</th>\n",
       "    </tr>\n",
       "  </thead>\n",
       "  <tbody>\n",
       "    <tr>\n",
       "      <th>179403</th>\n",
       "      <td>179403</td>\n",
       "      <td>A506401</td>\n",
       "      <td>B</td>\n",
       "      <td>Adjust bad debt</td>\n",
       "      <td>1</td>\n",
       "      <td>2010-04-29 13:36:00</td>\n",
       "      <td>-53594.36</td>\n",
       "      <td>NaN</td>\n",
       "      <td>United Kingdom</td>\n",
       "    </tr>\n",
       "    <tr>\n",
       "      <th>276274</th>\n",
       "      <td>276274</td>\n",
       "      <td>A516228</td>\n",
       "      <td>B</td>\n",
       "      <td>Adjust bad debt</td>\n",
       "      <td>1</td>\n",
       "      <td>2010-07-19 11:24:00</td>\n",
       "      <td>-44031.79</td>\n",
       "      <td>NaN</td>\n",
       "      <td>United Kingdom</td>\n",
       "    </tr>\n",
       "    <tr>\n",
       "      <th>403472</th>\n",
       "      <td>403472</td>\n",
       "      <td>A528059</td>\n",
       "      <td>B</td>\n",
       "      <td>Adjust bad debt</td>\n",
       "      <td>1</td>\n",
       "      <td>2010-10-20 12:04:00</td>\n",
       "      <td>-38925.87</td>\n",
       "      <td>NaN</td>\n",
       "      <td>United Kingdom</td>\n",
       "    </tr>\n",
       "    <tr>\n",
       "      <th>825444</th>\n",
       "      <td>299983</td>\n",
       "      <td>A563186</td>\n",
       "      <td>B</td>\n",
       "      <td>Adjust bad debt</td>\n",
       "      <td>1</td>\n",
       "      <td>2011-08-12 14:51:00</td>\n",
       "      <td>-11062.06</td>\n",
       "      <td>NaN</td>\n",
       "      <td>United Kingdom</td>\n",
       "    </tr>\n",
       "    <tr>\n",
       "      <th>825445</th>\n",
       "      <td>299984</td>\n",
       "      <td>A563187</td>\n",
       "      <td>B</td>\n",
       "      <td>Adjust bad debt</td>\n",
       "      <td>1</td>\n",
       "      <td>2011-08-12 14:52:00</td>\n",
       "      <td>-11062.06</td>\n",
       "      <td>NaN</td>\n",
       "      <td>United Kingdom</td>\n",
       "    </tr>\n",
       "  </tbody>\n",
       "</table>\n",
       "</div>"
      ],
      "text/plain": [
       "         index  Invoice StockCode      Description  Quantity   \n",
       "179403  179403  A506401         B  Adjust bad debt         1  \\\n",
       "276274  276274  A516228         B  Adjust bad debt         1   \n",
       "403472  403472  A528059         B  Adjust bad debt         1   \n",
       "825444  299983  A563186         B  Adjust bad debt         1   \n",
       "825445  299984  A563187         B  Adjust bad debt         1   \n",
       "\n",
       "               InvoiceDate     Price  Customer ID         Country  \n",
       "179403 2010-04-29 13:36:00 -53594.36          NaN  United Kingdom  \n",
       "276274 2010-07-19 11:24:00 -44031.79          NaN  United Kingdom  \n",
       "403472 2010-10-20 12:04:00 -38925.87          NaN  United Kingdom  \n",
       "825444 2011-08-12 14:51:00 -11062.06          NaN  United Kingdom  \n",
       "825445 2011-08-12 14:52:00 -11062.06          NaN  United Kingdom  "
      ]
     },
     "execution_count": 8,
     "metadata": {},
     "output_type": "execute_result"
    }
   ],
   "source": [
    "data[data.Price < 0]"
   ]
  },
  {
   "cell_type": "code",
   "execution_count": 9,
   "metadata": {},
   "outputs": [],
   "source": [
    "data_bad_debt = data[data.Price < 0]"
   ]
  },
  {
   "cell_type": "markdown",
   "metadata": {},
   "source": [
    "Also going to remove items that are returned, as they do not provide any insights on customer behaviour"
   ]
  },
  {
   "cell_type": "code",
   "execution_count": 10,
   "metadata": {},
   "outputs": [],
   "source": [
    "# data_non_cancellations = data[data['Invoice'].str.contains('C', na=False) == False]\n",
    "data_returned = data[(data.Quantity < 0) & (data['Invoice'].str.contains('C', na=False) == False)]"
   ]
  },
  {
   "cell_type": "code",
   "execution_count": 11,
   "metadata": {},
   "outputs": [
    {
     "data": {
      "text/html": [
       "<div>\n",
       "<style scoped>\n",
       "    .dataframe tbody tr th:only-of-type {\n",
       "        vertical-align: middle;\n",
       "    }\n",
       "\n",
       "    .dataframe tbody tr th {\n",
       "        vertical-align: top;\n",
       "    }\n",
       "\n",
       "    .dataframe thead th {\n",
       "        text-align: right;\n",
       "    }\n",
       "</style>\n",
       "<table border=\"1\" class=\"dataframe\">\n",
       "  <thead>\n",
       "    <tr style=\"text-align: right;\">\n",
       "      <th></th>\n",
       "      <th>index</th>\n",
       "      <th>Invoice</th>\n",
       "      <th>StockCode</th>\n",
       "      <th>Description</th>\n",
       "      <th>Quantity</th>\n",
       "      <th>InvoiceDate</th>\n",
       "      <th>Price</th>\n",
       "      <th>Customer ID</th>\n",
       "      <th>Country</th>\n",
       "    </tr>\n",
       "  </thead>\n",
       "  <tbody>\n",
       "    <tr>\n",
       "      <th>263</th>\n",
       "      <td>263</td>\n",
       "      <td>489464</td>\n",
       "      <td>21733</td>\n",
       "      <td>85123a mixed</td>\n",
       "      <td>-96</td>\n",
       "      <td>2009-12-01 10:52:00</td>\n",
       "      <td>0.0</td>\n",
       "      <td>NaN</td>\n",
       "      <td>United Kingdom</td>\n",
       "    </tr>\n",
       "    <tr>\n",
       "      <th>283</th>\n",
       "      <td>283</td>\n",
       "      <td>489463</td>\n",
       "      <td>71477</td>\n",
       "      <td>short</td>\n",
       "      <td>-240</td>\n",
       "      <td>2009-12-01 10:52:00</td>\n",
       "      <td>0.0</td>\n",
       "      <td>NaN</td>\n",
       "      <td>United Kingdom</td>\n",
       "    </tr>\n",
       "    <tr>\n",
       "      <th>284</th>\n",
       "      <td>284</td>\n",
       "      <td>489467</td>\n",
       "      <td>85123A</td>\n",
       "      <td>21733 mixed</td>\n",
       "      <td>-192</td>\n",
       "      <td>2009-12-01 10:53:00</td>\n",
       "      <td>0.0</td>\n",
       "      <td>NaN</td>\n",
       "      <td>United Kingdom</td>\n",
       "    </tr>\n",
       "    <tr>\n",
       "      <th>470</th>\n",
       "      <td>470</td>\n",
       "      <td>489521</td>\n",
       "      <td>21646</td>\n",
       "      <td>NaN</td>\n",
       "      <td>-50</td>\n",
       "      <td>2009-12-01 11:44:00</td>\n",
       "      <td>0.0</td>\n",
       "      <td>NaN</td>\n",
       "      <td>United Kingdom</td>\n",
       "    </tr>\n",
       "    <tr>\n",
       "      <th>3114</th>\n",
       "      <td>3114</td>\n",
       "      <td>489655</td>\n",
       "      <td>20683</td>\n",
       "      <td>NaN</td>\n",
       "      <td>-44</td>\n",
       "      <td>2009-12-01 17:26:00</td>\n",
       "      <td>0.0</td>\n",
       "      <td>NaN</td>\n",
       "      <td>United Kingdom</td>\n",
       "    </tr>\n",
       "    <tr>\n",
       "      <th>...</th>\n",
       "      <td>...</td>\n",
       "      <td>...</td>\n",
       "      <td>...</td>\n",
       "      <td>...</td>\n",
       "      <td>...</td>\n",
       "      <td>...</td>\n",
       "      <td>...</td>\n",
       "      <td>...</td>\n",
       "      <td>...</td>\n",
       "    </tr>\n",
       "    <tr>\n",
       "      <th>1060794</th>\n",
       "      <td>535333</td>\n",
       "      <td>581210</td>\n",
       "      <td>23395</td>\n",
       "      <td>check</td>\n",
       "      <td>-26</td>\n",
       "      <td>2011-12-07 18:36:00</td>\n",
       "      <td>0.0</td>\n",
       "      <td>NaN</td>\n",
       "      <td>United Kingdom</td>\n",
       "    </tr>\n",
       "    <tr>\n",
       "      <th>1060796</th>\n",
       "      <td>535335</td>\n",
       "      <td>581212</td>\n",
       "      <td>22578</td>\n",
       "      <td>lost</td>\n",
       "      <td>-1050</td>\n",
       "      <td>2011-12-07 18:38:00</td>\n",
       "      <td>0.0</td>\n",
       "      <td>NaN</td>\n",
       "      <td>United Kingdom</td>\n",
       "    </tr>\n",
       "    <tr>\n",
       "      <th>1060797</th>\n",
       "      <td>535336</td>\n",
       "      <td>581213</td>\n",
       "      <td>22576</td>\n",
       "      <td>check</td>\n",
       "      <td>-30</td>\n",
       "      <td>2011-12-07 18:38:00</td>\n",
       "      <td>0.0</td>\n",
       "      <td>NaN</td>\n",
       "      <td>United Kingdom</td>\n",
       "    </tr>\n",
       "    <tr>\n",
       "      <th>1062371</th>\n",
       "      <td>536910</td>\n",
       "      <td>581226</td>\n",
       "      <td>23090</td>\n",
       "      <td>missing</td>\n",
       "      <td>-338</td>\n",
       "      <td>2011-12-08 09:56:00</td>\n",
       "      <td>0.0</td>\n",
       "      <td>NaN</td>\n",
       "      <td>United Kingdom</td>\n",
       "    </tr>\n",
       "    <tr>\n",
       "      <th>1064386</th>\n",
       "      <td>538925</td>\n",
       "      <td>581422</td>\n",
       "      <td>23169</td>\n",
       "      <td>smashed</td>\n",
       "      <td>-235</td>\n",
       "      <td>2011-12-08 15:24:00</td>\n",
       "      <td>0.0</td>\n",
       "      <td>NaN</td>\n",
       "      <td>United Kingdom</td>\n",
       "    </tr>\n",
       "  </tbody>\n",
       "</table>\n",
       "<p>3457 rows × 9 columns</p>\n",
       "</div>"
      ],
      "text/plain": [
       "          index Invoice StockCode   Description  Quantity         InvoiceDate   \n",
       "263         263  489464     21733  85123a mixed       -96 2009-12-01 10:52:00  \\\n",
       "283         283  489463     71477         short      -240 2009-12-01 10:52:00   \n",
       "284         284  489467    85123A   21733 mixed      -192 2009-12-01 10:53:00   \n",
       "470         470  489521     21646           NaN       -50 2009-12-01 11:44:00   \n",
       "3114       3114  489655     20683           NaN       -44 2009-12-01 17:26:00   \n",
       "...         ...     ...       ...           ...       ...                 ...   \n",
       "1060794  535333  581210     23395         check       -26 2011-12-07 18:36:00   \n",
       "1060796  535335  581212     22578          lost     -1050 2011-12-07 18:38:00   \n",
       "1060797  535336  581213     22576         check       -30 2011-12-07 18:38:00   \n",
       "1062371  536910  581226     23090       missing      -338 2011-12-08 09:56:00   \n",
       "1064386  538925  581422     23169       smashed      -235 2011-12-08 15:24:00   \n",
       "\n",
       "         Price  Customer ID         Country  \n",
       "263        0.0          NaN  United Kingdom  \n",
       "283        0.0          NaN  United Kingdom  \n",
       "284        0.0          NaN  United Kingdom  \n",
       "470        0.0          NaN  United Kingdom  \n",
       "3114       0.0          NaN  United Kingdom  \n",
       "...        ...          ...             ...  \n",
       "1060794    0.0          NaN  United Kingdom  \n",
       "1060796    0.0          NaN  United Kingdom  \n",
       "1060797    0.0          NaN  United Kingdom  \n",
       "1062371    0.0          NaN  United Kingdom  \n",
       "1064386    0.0          NaN  United Kingdom  \n",
       "\n",
       "[3457 rows x 9 columns]"
      ]
     },
     "execution_count": 11,
     "metadata": {},
     "output_type": "execute_result"
    }
   ],
   "source": [
    "data_returned"
   ]
  },
  {
   "cell_type": "code",
   "execution_count": 12,
   "metadata": {},
   "outputs": [],
   "source": [
    "##  Remove indices of data_cancellations, data_bad_debt, data_returned from data\n",
    "# data.drop(data_cancellations.index, inplace=True)\n",
    "data.drop(data_bad_debt.index, inplace=True)\n",
    "data.drop(data_returned.index, inplace=True)"
   ]
  },
  {
   "cell_type": "code",
   "execution_count": 13,
   "metadata": {},
   "outputs": [],
   "source": [
    "## Make everything in the 'StockCode' column uppercase\n",
    "data['StockCode'] = data['StockCode'].str.upper()"
   ]
  },
  {
   "cell_type": "code",
   "execution_count": 14,
   "metadata": {},
   "outputs": [],
   "source": [
    "## Remove whitespace from everything in the 'StockCode' column\n",
    "data['StockCode'] = data['StockCode'].str.strip()"
   ]
  },
  {
   "cell_type": "markdown",
   "metadata": {},
   "source": [
    "Items with no Price don't add any real value. These are worth removing too, since most of them don't even have a Customer ID"
   ]
  },
  {
   "cell_type": "code",
   "execution_count": 15,
   "metadata": {},
   "outputs": [],
   "source": [
    "data_NoPrice = data[data['Price'] == 0.]"
   ]
  },
  {
   "cell_type": "code",
   "execution_count": 16,
   "metadata": {},
   "outputs": [
    {
     "data": {
      "text/html": [
       "<div>\n",
       "<style scoped>\n",
       "    .dataframe tbody tr th:only-of-type {\n",
       "        vertical-align: middle;\n",
       "    }\n",
       "\n",
       "    .dataframe tbody tr th {\n",
       "        vertical-align: top;\n",
       "    }\n",
       "\n",
       "    .dataframe thead th {\n",
       "        text-align: right;\n",
       "    }\n",
       "</style>\n",
       "<table border=\"1\" class=\"dataframe\">\n",
       "  <thead>\n",
       "    <tr style=\"text-align: right;\">\n",
       "      <th></th>\n",
       "      <th>index</th>\n",
       "      <th>Invoice</th>\n",
       "      <th>StockCode</th>\n",
       "      <th>Description</th>\n",
       "      <th>Quantity</th>\n",
       "      <th>InvoiceDate</th>\n",
       "      <th>Price</th>\n",
       "      <th>Customer ID</th>\n",
       "      <th>Country</th>\n",
       "    </tr>\n",
       "  </thead>\n",
       "  <tbody>\n",
       "    <tr>\n",
       "      <th>3161</th>\n",
       "      <td>3161</td>\n",
       "      <td>489659</td>\n",
       "      <td>NaN</td>\n",
       "      <td>NaN</td>\n",
       "      <td>230</td>\n",
       "      <td>2009-12-01 17:39:00</td>\n",
       "      <td>0.0</td>\n",
       "      <td>NaN</td>\n",
       "      <td>United Kingdom</td>\n",
       "    </tr>\n",
       "    <tr>\n",
       "      <th>3731</th>\n",
       "      <td>3731</td>\n",
       "      <td>489781</td>\n",
       "      <td>NaN</td>\n",
       "      <td>NaN</td>\n",
       "      <td>17</td>\n",
       "      <td>2009-12-02 11:45:00</td>\n",
       "      <td>0.0</td>\n",
       "      <td>NaN</td>\n",
       "      <td>United Kingdom</td>\n",
       "    </tr>\n",
       "    <tr>\n",
       "      <th>4674</th>\n",
       "      <td>4674</td>\n",
       "      <td>489825</td>\n",
       "      <td>NaN</td>\n",
       "      <td>6 RIBBONS EMPIRE</td>\n",
       "      <td>12</td>\n",
       "      <td>2009-12-02 13:34:00</td>\n",
       "      <td>0.0</td>\n",
       "      <td>16126.0</td>\n",
       "      <td>United Kingdom</td>\n",
       "    </tr>\n",
       "    <tr>\n",
       "      <th>5904</th>\n",
       "      <td>5904</td>\n",
       "      <td>489861</td>\n",
       "      <td>DOT</td>\n",
       "      <td>DOTCOM POSTAGE</td>\n",
       "      <td>1</td>\n",
       "      <td>2009-12-02 14:50:00</td>\n",
       "      <td>0.0</td>\n",
       "      <td>NaN</td>\n",
       "      <td>United Kingdom</td>\n",
       "    </tr>\n",
       "    <tr>\n",
       "      <th>6378</th>\n",
       "      <td>6378</td>\n",
       "      <td>489882</td>\n",
       "      <td>35751C</td>\n",
       "      <td>NaN</td>\n",
       "      <td>12</td>\n",
       "      <td>2009-12-02 16:22:00</td>\n",
       "      <td>0.0</td>\n",
       "      <td>NaN</td>\n",
       "      <td>United Kingdom</td>\n",
       "    </tr>\n",
       "  </tbody>\n",
       "</table>\n",
       "</div>"
      ],
      "text/plain": [
       "      index Invoice StockCode         Description  Quantity   \n",
       "3161   3161  489659       NaN                 NaN       230  \\\n",
       "3731   3731  489781       NaN                 NaN        17   \n",
       "4674   4674  489825       NaN  6 RIBBONS EMPIRE          12   \n",
       "5904   5904  489861       DOT      DOTCOM POSTAGE         1   \n",
       "6378   6378  489882    35751C                 NaN        12   \n",
       "\n",
       "             InvoiceDate  Price  Customer ID         Country  \n",
       "3161 2009-12-01 17:39:00    0.0          NaN  United Kingdom  \n",
       "3731 2009-12-02 11:45:00    0.0          NaN  United Kingdom  \n",
       "4674 2009-12-02 13:34:00    0.0      16126.0  United Kingdom  \n",
       "5904 2009-12-02 14:50:00    0.0          NaN  United Kingdom  \n",
       "6378 2009-12-02 16:22:00    0.0          NaN  United Kingdom  "
      ]
     },
     "execution_count": 16,
     "metadata": {},
     "output_type": "execute_result"
    }
   ],
   "source": [
    "data_NoPrice.head()"
   ]
  },
  {
   "cell_type": "code",
   "execution_count": 17,
   "metadata": {},
   "outputs": [],
   "source": [
    "data.drop(data_NoPrice.index, inplace=True)"
   ]
  },
  {
   "cell_type": "markdown",
   "metadata": {},
   "source": [
    "Now, we can get rid of some transactions that do not add any real value to our customer segmentation analysis. This includes those with a Stock Code usch as 'Test', 'Bank', 'Amazon' or 'Gift'"
   ]
  },
  {
   "cell_type": "code",
   "execution_count": 18,
   "metadata": {},
   "outputs": [],
   "source": [
    "data_test = data[data['StockCode'].str.contains('TEST', na=False)]\n",
    "data.drop(data_test.index, inplace=True)"
   ]
  },
  {
   "cell_type": "code",
   "execution_count": 19,
   "metadata": {},
   "outputs": [],
   "source": [
    "data_bank = data[data['StockCode'].str.contains('BANK', na=False)]\n",
    "data.drop(data_bank.index, inplace=True)"
   ]
  },
  {
   "cell_type": "code",
   "execution_count": 20,
   "metadata": {},
   "outputs": [],
   "source": [
    "data_amazon = data[data['StockCode'].str.contains('AMAZON', na=False)]\n",
    "data.drop(data_amazon.index, inplace=True)"
   ]
  },
  {
   "cell_type": "code",
   "execution_count": 21,
   "metadata": {},
   "outputs": [],
   "source": [
    "data_gift = data[data['StockCode'].str.contains('GIFT', na=False)]\n",
    "data.drop(data_gift.index, inplace=True)"
   ]
  },
  {
   "cell_type": "code",
   "execution_count": 22,
   "metadata": {},
   "outputs": [],
   "source": [
    "data_adjust = data[data['StockCode'].str.contains('ADJUST', na=False)]\n",
    "data.drop(data_adjust.index, inplace=True)"
   ]
  },
  {
   "cell_type": "markdown",
   "metadata": {},
   "source": [
    "Introduce a New column called 'TotalPrice', which will be used extensively in our analysis"
   ]
  },
  {
   "cell_type": "code",
   "execution_count": 23,
   "metadata": {},
   "outputs": [],
   "source": [
    "data['TotalPrice'] = data['Quantity'] * data['Price']"
   ]
  },
  {
   "cell_type": "code",
   "execution_count": 24,
   "metadata": {},
   "outputs": [],
   "source": [
    "data['YearMonth'] = data['InvoiceDate'].dt.to_period('M')\n",
    "data['YearMonthWeek'] = data['InvoiceDate'].dt.to_period('W')"
   ]
  },
  {
   "cell_type": "code",
   "execution_count": 25,
   "metadata": {},
   "outputs": [],
   "source": [
    "grouped_df = data.groupby('YearMonth')['TotalPrice'].sum().reset_index()"
   ]
  },
  {
   "cell_type": "code",
   "execution_count": 26,
   "metadata": {},
   "outputs": [
    {
     "data": {
      "image/png": "[encoded data removed]",
      "text/plain": [
       "<Figure size 1200x600 with 1 Axes>"
      ]
     },
     "metadata": {},
     "output_type": "display_data"
    }
   ],
   "source": [
    "import matplotlib.pyplot as plt\n",
    "\n",
    "plt.figure(figsize=(12, 6))\n",
    "plt.bar(grouped_df['YearMonth'].astype(str), grouped_df['TotalPrice'])\n",
    "plt.xlabel('Year-Month')\n",
    "plt.ylabel('Total Price (Revenue)')\n",
    "plt.title('Total Revenue by Month & Year')\n",
    "plt.xticks(rotation=45)\n",
    "plt.show()"
   ]
  },
  {
   "cell_type": "markdown",
   "metadata": {},
   "source": [
    "The bar chart above demonstrates some seasonality. The number of transactions in November is significantly higher than the rest of the year. This is likely due to the Christmas season. There is limited data on the last December month in 2011, whihc is why a weekly breakdown is worth looking at"
   ]
  },
  {
   "cell_type": "code",
   "execution_count": 27,
   "metadata": {},
   "outputs": [],
   "source": [
    "grouped_df = data.groupby('YearMonthWeek')['TotalPrice'].sum().reset_index()"
   ]
  },
  {
   "cell_type": "code",
   "execution_count": 28,
   "metadata": {},
   "outputs": [
    {
     "data": {
      "image/png": "[encoded data removed]",
      "text/plain": [
       "<Figure size 2200x1100 with 1 Axes>"
      ]
     },
     "metadata": {},
     "output_type": "display_data"
    }
   ],
   "source": [
    "import matplotlib.pyplot as plt\n",
    "\n",
    "plt.figure(figsize=(22, 11))\n",
    "plt.bar(grouped_df['YearMonthWeek'].astype(str), grouped_df['TotalPrice'])\n",
    "plt.xlabel('Year-Month-Week')\n",
    "plt.ylabel('Total Revenue')\n",
    "plt.title('Total Revenue by Week, Month & Year')\n",
    "plt.xticks(rotation=90)\n",
    "plt.show()"
   ]
  },
  {
   "cell_type": "code",
   "execution_count": 29,
   "metadata": {},
   "outputs": [
    {
     "data": {
      "text/plain": [
       "0"
      ]
     },
     "execution_count": 29,
     "metadata": {},
     "output_type": "execute_result"
    }
   ],
   "source": [
    "## No duplicates as shown below\n",
    "data.duplicated().sum()"
   ]
  },
  {
   "cell_type": "markdown",
   "metadata": {},
   "source": [
    "### RFM Analysis"
   ]
  },
  {
   "cell_type": "markdown",
   "metadata": {},
   "source": [
    "RFM is a very useful form of customer segmentation. As a form of feature engineering, we will rely on it quite a bit to strengthen our analysis. It consists of:\n",
    "- *Recency*- When did the customer make their last purchase? Recent customers are more likely to purchase again compared to those who haven't purchased in a while.\n",
    "- *Frequency*- How often do they purchase? Customers who purchase frequently are more engaged, and likely more loyal, than those who purchase rarely.\n",
    "- *Monetary*- How much money do they spend? Customers who spend more are obviously more valuable to the business than those who spend less."
   ]
  },
  {
   "cell_type": "code",
   "execution_count": 30,
   "metadata": {},
   "outputs": [
    {
     "data": {
      "text/plain": [
       "Timestamp('2011-12-09 12:50:00')"
      ]
     },
     "execution_count": 30,
     "metadata": {},
     "output_type": "execute_result"
    }
   ],
   "source": [
    "data[\"InvoiceDate\"].max()"
   ]
  },
  {
   "cell_type": "code",
   "execution_count": 31,
   "metadata": {},
   "outputs": [
    {
     "data": {
      "text/plain": [
       "Timestamp('2011-12-09 12:50:00')"
      ]
     },
     "execution_count": 31,
     "metadata": {},
     "output_type": "execute_result"
    }
   ],
   "source": [
    "## TOday's date is set as 2 days after the max date\n",
    "today_date=dt.datetime(2011,12,11)\n",
    "data[\"InvoiceDate\"].max()"
   ]
  },
  {
   "cell_type": "code",
   "execution_count": 32,
   "metadata": {},
   "outputs": [],
   "source": [
    "## Group rfm by Customer ID\n",
    "rfm=data.groupby(\"Customer ID\").agg({\"InvoiceDate\": lambda date :(today_date-date.max()).days,\n",
    "                               \"Invoice\": lambda nmb : nmb.nunique(),\n",
    "                               \"TotalPrice\":lambda TotPrc : TotPrc.sum()})"
   ]
  },
  {
   "cell_type": "code",
   "execution_count": 33,
   "metadata": {},
   "outputs": [
    {
     "data": {
      "text/html": [
       "<div>\n",
       "<style scoped>\n",
       "    .dataframe tbody tr th:only-of-type {\n",
       "        vertical-align: middle;\n",
       "    }\n",
       "\n",
       "    .dataframe tbody tr th {\n",
       "        vertical-align: top;\n",
       "    }\n",
       "\n",
       "    .dataframe thead th {\n",
       "        text-align: right;\n",
       "    }\n",
       "</style>\n",
       "<table border=\"1\" class=\"dataframe\">\n",
       "  <thead>\n",
       "    <tr style=\"text-align: right;\">\n",
       "      <th></th>\n",
       "      <th>recency</th>\n",
       "      <th>frequency</th>\n",
       "      <th>monetary</th>\n",
       "    </tr>\n",
       "    <tr>\n",
       "      <th>Customer ID</th>\n",
       "      <th></th>\n",
       "      <th></th>\n",
       "      <th></th>\n",
       "    </tr>\n",
       "  </thead>\n",
       "  <tbody>\n",
       "    <tr>\n",
       "      <th>12346.0</th>\n",
       "      <td>326</td>\n",
       "      <td>6</td>\n",
       "      <td>-160.18</td>\n",
       "    </tr>\n",
       "    <tr>\n",
       "      <th>12347.0</th>\n",
       "      <td>3</td>\n",
       "      <td>8</td>\n",
       "      <td>5633.32</td>\n",
       "    </tr>\n",
       "    <tr>\n",
       "      <th>12348.0</th>\n",
       "      <td>76</td>\n",
       "      <td>5</td>\n",
       "      <td>2019.40</td>\n",
       "    </tr>\n",
       "    <tr>\n",
       "      <th>12349.0</th>\n",
       "      <td>19</td>\n",
       "      <td>5</td>\n",
       "      <td>4404.54</td>\n",
       "    </tr>\n",
       "    <tr>\n",
       "      <th>12350.0</th>\n",
       "      <td>311</td>\n",
       "      <td>1</td>\n",
       "      <td>334.40</td>\n",
       "    </tr>\n",
       "  </tbody>\n",
       "</table>\n",
       "</div>"
      ],
      "text/plain": [
       "             recency  frequency  monetary\n",
       "Customer ID                              \n",
       "12346.0          326          6   -160.18\n",
       "12347.0            3          8   5633.32\n",
       "12348.0           76          5   2019.40\n",
       "12349.0           19          5   4404.54\n",
       "12350.0          311          1    334.40"
      ]
     },
     "execution_count": 33,
     "metadata": {},
     "output_type": "execute_result"
    }
   ],
   "source": [
    "rfm.columns=[\"recency\",\"frequency\",\"monetary\"]\n",
    "rfm.head()"
   ]
  },
  {
   "cell_type": "code",
   "execution_count": 34,
   "metadata": {},
   "outputs": [
    {
     "data": {
      "image/png": "[encoded data removed]",
      "text/plain": [
       "<IPython.core.display.Image object>"
      ]
     },
     "execution_count": 34,
     "metadata": {},
     "output_type": "execute_result"
    }
   ],
   "source": [
    "## Insert an image from my folders\n",
    "from IPython.display import Image\n",
    "Image(filename=r\"C:\\Users\\ksbha\\Pictures\\AdvantagesAndInefficaciesOfRFMSegmentation1.png\")"
   ]
  },
  {
   "cell_type": "markdown",
   "metadata": {},
   "source": [
    "Based on the recency and frequncy scores, we will segemnt our customers as per the graph shown above."
   ]
  },
  {
   "cell_type": "code",
   "execution_count": 35,
   "metadata": {},
   "outputs": [],
   "source": [
    "rfm[\"recency_score\"] = pd.qcut(rfm[\"recency\"],5,labels=[5,4,3,2,1])\n",
    "rfm[\"frequency_score\"] = pd.qcut(rfm[\"frequency\"].rank(method=\"first\"),5,labels=[1,2,3,4,5])"
   ]
  },
  {
   "cell_type": "code",
   "execution_count": 36,
   "metadata": {},
   "outputs": [
    {
     "data": {
      "text/html": [
       "<div>\n",
       "<style scoped>\n",
       "    .dataframe tbody tr th:only-of-type {\n",
       "        vertical-align: middle;\n",
       "    }\n",
       "\n",
       "    .dataframe tbody tr th {\n",
       "        vertical-align: top;\n",
       "    }\n",
       "\n",
       "    .dataframe thead th {\n",
       "        text-align: right;\n",
       "    }\n",
       "</style>\n",
       "<table border=\"1\" class=\"dataframe\">\n",
       "  <thead>\n",
       "    <tr style=\"text-align: right;\">\n",
       "      <th></th>\n",
       "      <th>recency</th>\n",
       "      <th>frequency</th>\n",
       "      <th>monetary</th>\n",
       "      <th>recency_score</th>\n",
       "      <th>frequency_score</th>\n",
       "      <th>rfm_score</th>\n",
       "    </tr>\n",
       "    <tr>\n",
       "      <th>Customer ID</th>\n",
       "      <th></th>\n",
       "      <th></th>\n",
       "      <th></th>\n",
       "      <th></th>\n",
       "      <th></th>\n",
       "      <th></th>\n",
       "    </tr>\n",
       "  </thead>\n",
       "  <tbody>\n",
       "    <tr>\n",
       "      <th>12346.0</th>\n",
       "      <td>326</td>\n",
       "      <td>6</td>\n",
       "      <td>-160.18</td>\n",
       "      <td>2</td>\n",
       "      <td>4</td>\n",
       "      <td>24</td>\n",
       "    </tr>\n",
       "    <tr>\n",
       "      <th>12347.0</th>\n",
       "      <td>3</td>\n",
       "      <td>8</td>\n",
       "      <td>5633.32</td>\n",
       "      <td>5</td>\n",
       "      <td>4</td>\n",
       "      <td>54</td>\n",
       "    </tr>\n",
       "    <tr>\n",
       "      <th>12348.0</th>\n",
       "      <td>76</td>\n",
       "      <td>5</td>\n",
       "      <td>2019.40</td>\n",
       "      <td>3</td>\n",
       "      <td>3</td>\n",
       "      <td>33</td>\n",
       "    </tr>\n",
       "    <tr>\n",
       "      <th>12349.0</th>\n",
       "      <td>19</td>\n",
       "      <td>5</td>\n",
       "      <td>4404.54</td>\n",
       "      <td>5</td>\n",
       "      <td>3</td>\n",
       "      <td>53</td>\n",
       "    </tr>\n",
       "    <tr>\n",
       "      <th>12350.0</th>\n",
       "      <td>311</td>\n",
       "      <td>1</td>\n",
       "      <td>334.40</td>\n",
       "      <td>2</td>\n",
       "      <td>1</td>\n",
       "      <td>21</td>\n",
       "    </tr>\n",
       "  </tbody>\n",
       "</table>\n",
       "</div>"
      ],
      "text/plain": [
       "             recency  frequency  monetary recency_score frequency_score   \n",
       "Customer ID                                                               \n",
       "12346.0          326          6   -160.18             2               4  \\\n",
       "12347.0            3          8   5633.32             5               4   \n",
       "12348.0           76          5   2019.40             3               3   \n",
       "12349.0           19          5   4404.54             5               3   \n",
       "12350.0          311          1    334.40             2               1   \n",
       "\n",
       "            rfm_score  \n",
       "Customer ID            \n",
       "12346.0            24  \n",
       "12347.0            54  \n",
       "12348.0            33  \n",
       "12349.0            53  \n",
       "12350.0            21  "
      ]
     },
     "execution_count": 36,
     "metadata": {},
     "output_type": "execute_result"
    }
   ],
   "source": [
    "rfm[\"rfm_score\"]=rfm[\"recency_score\"].astype(\"str\")+rfm[\"frequency_score\"].astype(\"str\")\n",
    "rfm.head()"
   ]
  },
  {
   "cell_type": "code",
   "execution_count": 37,
   "metadata": {},
   "outputs": [
    {
     "data": {
      "text/html": [
       "<div>\n",
       "<style scoped>\n",
       "    .dataframe tbody tr th:only-of-type {\n",
       "        vertical-align: middle;\n",
       "    }\n",
       "\n",
       "    .dataframe tbody tr th {\n",
       "        vertical-align: top;\n",
       "    }\n",
       "\n",
       "    .dataframe thead th {\n",
       "        text-align: right;\n",
       "    }\n",
       "</style>\n",
       "<table border=\"1\" class=\"dataframe\">\n",
       "  <thead>\n",
       "    <tr style=\"text-align: right;\">\n",
       "      <th></th>\n",
       "      <th>recency</th>\n",
       "      <th>frequency</th>\n",
       "      <th>monetary</th>\n",
       "      <th>recency_score</th>\n",
       "      <th>frequency_score</th>\n",
       "      <th>rfm_score</th>\n",
       "      <th>segment</th>\n",
       "    </tr>\n",
       "    <tr>\n",
       "      <th>Customer ID</th>\n",
       "      <th></th>\n",
       "      <th></th>\n",
       "      <th></th>\n",
       "      <th></th>\n",
       "      <th></th>\n",
       "      <th></th>\n",
       "      <th></th>\n",
       "    </tr>\n",
       "  </thead>\n",
       "  <tbody>\n",
       "    <tr>\n",
       "      <th>12346.0</th>\n",
       "      <td>326</td>\n",
       "      <td>6</td>\n",
       "      <td>-160.18</td>\n",
       "      <td>2</td>\n",
       "      <td>4</td>\n",
       "      <td>24</td>\n",
       "      <td>at_Risk</td>\n",
       "    </tr>\n",
       "    <tr>\n",
       "      <th>12347.0</th>\n",
       "      <td>3</td>\n",
       "      <td>8</td>\n",
       "      <td>5633.32</td>\n",
       "      <td>5</td>\n",
       "      <td>4</td>\n",
       "      <td>54</td>\n",
       "      <td>champions</td>\n",
       "    </tr>\n",
       "    <tr>\n",
       "      <th>12348.0</th>\n",
       "      <td>76</td>\n",
       "      <td>5</td>\n",
       "      <td>2019.40</td>\n",
       "      <td>3</td>\n",
       "      <td>3</td>\n",
       "      <td>33</td>\n",
       "      <td>need_attention</td>\n",
       "    </tr>\n",
       "    <tr>\n",
       "      <th>12349.0</th>\n",
       "      <td>19</td>\n",
       "      <td>5</td>\n",
       "      <td>4404.54</td>\n",
       "      <td>5</td>\n",
       "      <td>3</td>\n",
       "      <td>53</td>\n",
       "      <td>potential_loyalists</td>\n",
       "    </tr>\n",
       "    <tr>\n",
       "      <th>12350.0</th>\n",
       "      <td>311</td>\n",
       "      <td>1</td>\n",
       "      <td>334.40</td>\n",
       "      <td>2</td>\n",
       "      <td>1</td>\n",
       "      <td>21</td>\n",
       "      <td>hibernating</td>\n",
       "    </tr>\n",
       "  </tbody>\n",
       "</table>\n",
       "</div>"
      ],
      "text/plain": [
       "             recency  frequency  monetary recency_score frequency_score   \n",
       "Customer ID                                                               \n",
       "12346.0          326          6   -160.18             2               4  \\\n",
       "12347.0            3          8   5633.32             5               4   \n",
       "12348.0           76          5   2019.40             3               3   \n",
       "12349.0           19          5   4404.54             5               3   \n",
       "12350.0          311          1    334.40             2               1   \n",
       "\n",
       "            rfm_score              segment  \n",
       "Customer ID                                 \n",
       "12346.0            24              at_Risk  \n",
       "12347.0            54            champions  \n",
       "12348.0            33       need_attention  \n",
       "12349.0            53  potential_loyalists  \n",
       "12350.0            21          hibernating  "
      ]
     },
     "execution_count": 37,
     "metadata": {},
     "output_type": "execute_result"
    }
   ],
   "source": [
    "seg_map = {\n",
    "    r'[1-2][1-2]': 'hibernating',\n",
    "    r'[1-2][3-4]': 'at_Risk',\n",
    "    r'[1-2]5': 'cant_loose',\n",
    "    r'3[1-2]': 'about_to_sleep',\n",
    "    r'33': 'need_attention',\n",
    "    r'[3-4][4-5]': 'loyal_customers',\n",
    "    r'41': 'promising',\n",
    "    r'51': 'new_customers',\n",
    "    r'[4-5][2-3]': 'potential_loyalists',\n",
    "    r'5[4-5]': 'champions'\n",
    "}\n",
    "\n",
    "\n",
    "rfm['segment'] = rfm['rfm_score'].replace(seg_map, regex=True)\n",
    "\n",
    "rfm.head()"
   ]
  },
  {
   "cell_type": "markdown",
   "metadata": {},
   "source": [
    "The table below shows us that most of our customers are actually hibernating. This segmentation can help marketing managers identify those who are not active and target them with special offers to re-engage them.\n",
    "\n",
    "However, the next most frequent customers are the \"loyal_customers\" and the \"champions\". They also provide the most revenue when compared to the rest!"
   ]
  },
  {
   "cell_type": "code",
   "execution_count": 38,
   "metadata": {},
   "outputs": [
    {
     "data": {
      "text/html": [
       "<div>\n",
       "<style scoped>\n",
       "    .dataframe tbody tr th:only-of-type {\n",
       "        vertical-align: middle;\n",
       "    }\n",
       "\n",
       "    .dataframe tbody tr th {\n",
       "        vertical-align: top;\n",
       "    }\n",
       "\n",
       "    .dataframe thead tr th {\n",
       "        text-align: left;\n",
       "    }\n",
       "\n",
       "    .dataframe thead tr:last-of-type th {\n",
       "        text-align: right;\n",
       "    }\n",
       "</style>\n",
       "<table border=\"1\" class=\"dataframe\">\n",
       "  <thead>\n",
       "    <tr>\n",
       "      <th></th>\n",
       "      <th colspan=\"3\" halign=\"left\">recency</th>\n",
       "      <th colspan=\"3\" halign=\"left\">frequency</th>\n",
       "      <th colspan=\"3\" halign=\"left\">monetary</th>\n",
       "    </tr>\n",
       "    <tr>\n",
       "      <th></th>\n",
       "      <th>sum</th>\n",
       "      <th>mean</th>\n",
       "      <th>count</th>\n",
       "      <th>sum</th>\n",
       "      <th>mean</th>\n",
       "      <th>count</th>\n",
       "      <th>sum</th>\n",
       "      <th>mean</th>\n",
       "      <th>count</th>\n",
       "    </tr>\n",
       "    <tr>\n",
       "      <th>segment</th>\n",
       "      <th></th>\n",
       "      <th></th>\n",
       "      <th></th>\n",
       "      <th></th>\n",
       "      <th></th>\n",
       "      <th></th>\n",
       "      <th></th>\n",
       "      <th></th>\n",
       "      <th></th>\n",
       "    </tr>\n",
       "  </thead>\n",
       "  <tbody>\n",
       "    <tr>\n",
       "      <th>about_to_sleep</th>\n",
       "      <td>41613</td>\n",
       "      <td>107.527132</td>\n",
       "      <td>387</td>\n",
       "      <td>567</td>\n",
       "      <td>1.465116</td>\n",
       "      <td>387</td>\n",
       "      <td>194896.362</td>\n",
       "      <td>503.608171</td>\n",
       "      <td>387</td>\n",
       "    </tr>\n",
       "    <tr>\n",
       "      <th>at_Risk</th>\n",
       "      <td>281765</td>\n",
       "      <td>374.687500</td>\n",
       "      <td>752</td>\n",
       "      <td>3525</td>\n",
       "      <td>4.687500</td>\n",
       "      <td>752</td>\n",
       "      <td>882537.200</td>\n",
       "      <td>1173.586702</td>\n",
       "      <td>752</td>\n",
       "    </tr>\n",
       "    <tr>\n",
       "      <th>cant_loose</th>\n",
       "      <td>27247</td>\n",
       "      <td>320.552941</td>\n",
       "      <td>85</td>\n",
       "      <td>1500</td>\n",
       "      <td>17.647059</td>\n",
       "      <td>85</td>\n",
       "      <td>488044.552</td>\n",
       "      <td>5741.700612</td>\n",
       "      <td>85</td>\n",
       "    </tr>\n",
       "    <tr>\n",
       "      <th>champions</th>\n",
       "      <td>7280</td>\n",
       "      <td>8.524590</td>\n",
       "      <td>854</td>\n",
       "      <td>20093</td>\n",
       "      <td>23.528103</td>\n",
       "      <td>854</td>\n",
       "      <td>8992490.125</td>\n",
       "      <td>10529.847922</td>\n",
       "      <td>854</td>\n",
       "    </tr>\n",
       "    <tr>\n",
       "      <th>hibernating</th>\n",
       "      <td>705801</td>\n",
       "      <td>463.124016</td>\n",
       "      <td>1524</td>\n",
       "      <td>2048</td>\n",
       "      <td>1.343832</td>\n",
       "      <td>1524</td>\n",
       "      <td>525884.562</td>\n",
       "      <td>345.068610</td>\n",
       "      <td>1524</td>\n",
       "    </tr>\n",
       "    <tr>\n",
       "      <th>loyal_customers</th>\n",
       "      <td>77482</td>\n",
       "      <td>67.669869</td>\n",
       "      <td>1145</td>\n",
       "      <td>13670</td>\n",
       "      <td>11.938865</td>\n",
       "      <td>1145</td>\n",
       "      <td>4553713.935</td>\n",
       "      <td>3977.042738</td>\n",
       "      <td>1145</td>\n",
       "    </tr>\n",
       "    <tr>\n",
       "      <th>need_attention</th>\n",
       "      <td>30934</td>\n",
       "      <td>112.487273</td>\n",
       "      <td>275</td>\n",
       "      <td>1010</td>\n",
       "      <td>3.672727</td>\n",
       "      <td>275</td>\n",
       "      <td>288655.951</td>\n",
       "      <td>1049.658004</td>\n",
       "      <td>275</td>\n",
       "    </tr>\n",
       "    <tr>\n",
       "      <th>new_customers</th>\n",
       "      <td>587</td>\n",
       "      <td>10.870370</td>\n",
       "      <td>54</td>\n",
       "      <td>54</td>\n",
       "      <td>1.000000</td>\n",
       "      <td>54</td>\n",
       "      <td>19704.790</td>\n",
       "      <td>364.903519</td>\n",
       "      <td>54</td>\n",
       "    </tr>\n",
       "    <tr>\n",
       "      <th>potential_loyalists</th>\n",
       "      <td>18489</td>\n",
       "      <td>25.258197</td>\n",
       "      <td>732</td>\n",
       "      <td>2176</td>\n",
       "      <td>2.972678</td>\n",
       "      <td>732</td>\n",
       "      <td>662512.660</td>\n",
       "      <td>905.071940</td>\n",
       "      <td>732</td>\n",
       "    </tr>\n",
       "    <tr>\n",
       "      <th>promising</th>\n",
       "      <td>4318</td>\n",
       "      <td>38.212389</td>\n",
       "      <td>113</td>\n",
       "      <td>113</td>\n",
       "      <td>1.000000</td>\n",
       "      <td>113</td>\n",
       "      <td>36534.580</td>\n",
       "      <td>323.314867</td>\n",
       "      <td>113</td>\n",
       "    </tr>\n",
       "  </tbody>\n",
       "</table>\n",
       "</div>"
      ],
      "text/plain": [
       "                    recency                   frequency                    \n",
       "                        sum        mean count       sum       mean count   \n",
       "segment                                                                    \n",
       "about_to_sleep        41613  107.527132   387       567   1.465116   387  \\\n",
       "at_Risk              281765  374.687500   752      3525   4.687500   752   \n",
       "cant_loose            27247  320.552941    85      1500  17.647059    85   \n",
       "champions              7280    8.524590   854     20093  23.528103   854   \n",
       "hibernating          705801  463.124016  1524      2048   1.343832  1524   \n",
       "loyal_customers       77482   67.669869  1145     13670  11.938865  1145   \n",
       "need_attention        30934  112.487273   275      1010   3.672727   275   \n",
       "new_customers           587   10.870370    54        54   1.000000    54   \n",
       "potential_loyalists   18489   25.258197   732      2176   2.972678   732   \n",
       "promising              4318   38.212389   113       113   1.000000   113   \n",
       "\n",
       "                        monetary                      \n",
       "                             sum          mean count  \n",
       "segment                                               \n",
       "about_to_sleep        194896.362    503.608171   387  \n",
       "at_Risk               882537.200   1173.586702   752  \n",
       "cant_loose            488044.552   5741.700612    85  \n",
       "champions            8992490.125  10529.847922   854  \n",
       "hibernating           525884.562    345.068610  1524  \n",
       "loyal_customers      4553713.935   3977.042738  1145  \n",
       "need_attention        288655.951   1049.658004   275  \n",
       "new_customers          19704.790    364.903519    54  \n",
       "potential_loyalists   662512.660    905.071940   732  \n",
       "promising              36534.580    323.314867   113  "
      ]
     },
     "execution_count": 38,
     "metadata": {},
     "output_type": "execute_result"
    }
   ],
   "source": [
    "rfm[[\"segment\",\"recency\",\"frequency\",\"monetary\"]].groupby(\"segment\").agg([\"sum\",\"mean\",\"count\"])"
   ]
  },
  {
   "cell_type": "markdown",
   "metadata": {},
   "source": [
    "We can now add our segment labelling to our original dataframe"
   ]
  },
  {
   "cell_type": "code",
   "execution_count": 39,
   "metadata": {},
   "outputs": [],
   "source": [
    "## Add the recency, frequency, and monetary columns to the data dataframe where the customer ID matches\n",
    "data_rfm = data.merge(rfm, how='left', on='Customer ID')"
   ]
  },
  {
   "cell_type": "code",
   "execution_count": 40,
   "metadata": {},
   "outputs": [],
   "source": [
    "data_rfm.loc[data_rfm[data_rfm['Customer ID'].isna()].index, 'segment'] = \"No_Customer_ID\""
   ]
  },
  {
   "cell_type": "code",
   "execution_count": 41,
   "metadata": {},
   "outputs": [
    {
     "data": {
      "text/html": [
       "<div>\n",
       "<style scoped>\n",
       "    .dataframe tbody tr th:only-of-type {\n",
       "        vertical-align: middle;\n",
       "    }\n",
       "\n",
       "    .dataframe tbody tr th {\n",
       "        vertical-align: top;\n",
       "    }\n",
       "\n",
       "    .dataframe thead th {\n",
       "        text-align: right;\n",
       "    }\n",
       "</style>\n",
       "<table border=\"1\" class=\"dataframe\">\n",
       "  <thead>\n",
       "    <tr style=\"text-align: right;\">\n",
       "      <th></th>\n",
       "      <th>index</th>\n",
       "      <th>Invoice</th>\n",
       "      <th>StockCode</th>\n",
       "      <th>Description</th>\n",
       "      <th>Quantity</th>\n",
       "      <th>InvoiceDate</th>\n",
       "      <th>Price</th>\n",
       "      <th>Customer ID</th>\n",
       "      <th>Country</th>\n",
       "      <th>TotalPrice</th>\n",
       "      <th>YearMonth</th>\n",
       "      <th>YearMonthWeek</th>\n",
       "      <th>recency</th>\n",
       "      <th>frequency</th>\n",
       "      <th>monetary</th>\n",
       "      <th>recency_score</th>\n",
       "      <th>frequency_score</th>\n",
       "      <th>rfm_score</th>\n",
       "      <th>segment</th>\n",
       "    </tr>\n",
       "  </thead>\n",
       "  <tbody>\n",
       "    <tr>\n",
       "      <th>0</th>\n",
       "      <td>0</td>\n",
       "      <td>489434</td>\n",
       "      <td>NaN</td>\n",
       "      <td>15CM CHRISTMAS GLASS BALL 20 LIGHTS</td>\n",
       "      <td>12</td>\n",
       "      <td>2009-12-01 07:45:00</td>\n",
       "      <td>6.95</td>\n",
       "      <td>13085.0</td>\n",
       "      <td>United Kingdom</td>\n",
       "      <td>83.4</td>\n",
       "      <td>2009-12</td>\n",
       "      <td>2009-11-30/2009-12-06</td>\n",
       "      <td>158.0</td>\n",
       "      <td>10.0</td>\n",
       "      <td>1459.46</td>\n",
       "      <td>3</td>\n",
       "      <td>4</td>\n",
       "      <td>34</td>\n",
       "      <td>loyal_customers</td>\n",
       "    </tr>\n",
       "    <tr>\n",
       "      <th>1</th>\n",
       "      <td>1</td>\n",
       "      <td>489434</td>\n",
       "      <td>79323P</td>\n",
       "      <td>PINK CHERRY LIGHTS</td>\n",
       "      <td>12</td>\n",
       "      <td>2009-12-01 07:45:00</td>\n",
       "      <td>6.75</td>\n",
       "      <td>13085.0</td>\n",
       "      <td>United Kingdom</td>\n",
       "      <td>81.0</td>\n",
       "      <td>2009-12</td>\n",
       "      <td>2009-11-30/2009-12-06</td>\n",
       "      <td>158.0</td>\n",
       "      <td>10.0</td>\n",
       "      <td>1459.46</td>\n",
       "      <td>3</td>\n",
       "      <td>4</td>\n",
       "      <td>34</td>\n",
       "      <td>loyal_customers</td>\n",
       "    </tr>\n",
       "    <tr>\n",
       "      <th>2</th>\n",
       "      <td>2</td>\n",
       "      <td>489434</td>\n",
       "      <td>79323W</td>\n",
       "      <td>WHITE CHERRY LIGHTS</td>\n",
       "      <td>12</td>\n",
       "      <td>2009-12-01 07:45:00</td>\n",
       "      <td>6.75</td>\n",
       "      <td>13085.0</td>\n",
       "      <td>United Kingdom</td>\n",
       "      <td>81.0</td>\n",
       "      <td>2009-12</td>\n",
       "      <td>2009-11-30/2009-12-06</td>\n",
       "      <td>158.0</td>\n",
       "      <td>10.0</td>\n",
       "      <td>1459.46</td>\n",
       "      <td>3</td>\n",
       "      <td>4</td>\n",
       "      <td>34</td>\n",
       "      <td>loyal_customers</td>\n",
       "    </tr>\n",
       "    <tr>\n",
       "      <th>3</th>\n",
       "      <td>3</td>\n",
       "      <td>489434</td>\n",
       "      <td>NaN</td>\n",
       "      <td>RECORD FRAME 7\" SINGLE SIZE</td>\n",
       "      <td>48</td>\n",
       "      <td>2009-12-01 07:45:00</td>\n",
       "      <td>2.10</td>\n",
       "      <td>13085.0</td>\n",
       "      <td>United Kingdom</td>\n",
       "      <td>100.8</td>\n",
       "      <td>2009-12</td>\n",
       "      <td>2009-11-30/2009-12-06</td>\n",
       "      <td>158.0</td>\n",
       "      <td>10.0</td>\n",
       "      <td>1459.46</td>\n",
       "      <td>3</td>\n",
       "      <td>4</td>\n",
       "      <td>34</td>\n",
       "      <td>loyal_customers</td>\n",
       "    </tr>\n",
       "    <tr>\n",
       "      <th>4</th>\n",
       "      <td>4</td>\n",
       "      <td>489434</td>\n",
       "      <td>NaN</td>\n",
       "      <td>STRAWBERRY CERAMIC TRINKET BOX</td>\n",
       "      <td>24</td>\n",
       "      <td>2009-12-01 07:45:00</td>\n",
       "      <td>1.25</td>\n",
       "      <td>13085.0</td>\n",
       "      <td>United Kingdom</td>\n",
       "      <td>30.0</td>\n",
       "      <td>2009-12</td>\n",
       "      <td>2009-11-30/2009-12-06</td>\n",
       "      <td>158.0</td>\n",
       "      <td>10.0</td>\n",
       "      <td>1459.46</td>\n",
       "      <td>3</td>\n",
       "      <td>4</td>\n",
       "      <td>34</td>\n",
       "      <td>loyal_customers</td>\n",
       "    </tr>\n",
       "  </tbody>\n",
       "</table>\n",
       "</div>"
      ],
      "text/plain": [
       "   index Invoice StockCode                          Description  Quantity   \n",
       "0      0  489434       NaN  15CM CHRISTMAS GLASS BALL 20 LIGHTS        12  \\\n",
       "1      1  489434    79323P                   PINK CHERRY LIGHTS        12   \n",
       "2      2  489434    79323W                  WHITE CHERRY LIGHTS        12   \n",
       "3      3  489434       NaN         RECORD FRAME 7\" SINGLE SIZE         48   \n",
       "4      4  489434       NaN       STRAWBERRY CERAMIC TRINKET BOX        24   \n",
       "\n",
       "          InvoiceDate  Price  Customer ID         Country  TotalPrice   \n",
       "0 2009-12-01 07:45:00   6.95      13085.0  United Kingdom        83.4  \\\n",
       "1 2009-12-01 07:45:00   6.75      13085.0  United Kingdom        81.0   \n",
       "2 2009-12-01 07:45:00   6.75      13085.0  United Kingdom        81.0   \n",
       "3 2009-12-01 07:45:00   2.10      13085.0  United Kingdom       100.8   \n",
       "4 2009-12-01 07:45:00   1.25      13085.0  United Kingdom        30.0   \n",
       "\n",
       "  YearMonth          YearMonthWeek  recency  frequency  monetary   \n",
       "0   2009-12  2009-11-30/2009-12-06    158.0       10.0   1459.46  \\\n",
       "1   2009-12  2009-11-30/2009-12-06    158.0       10.0   1459.46   \n",
       "2   2009-12  2009-11-30/2009-12-06    158.0       10.0   1459.46   \n",
       "3   2009-12  2009-11-30/2009-12-06    158.0       10.0   1459.46   \n",
       "4   2009-12  2009-11-30/2009-12-06    158.0       10.0   1459.46   \n",
       "\n",
       "  recency_score frequency_score rfm_score          segment  \n",
       "0             3               4        34  loyal_customers  \n",
       "1             3               4        34  loyal_customers  \n",
       "2             3               4        34  loyal_customers  \n",
       "3             3               4        34  loyal_customers  \n",
       "4             3               4        34  loyal_customers  "
      ]
     },
     "execution_count": 41,
     "metadata": {},
     "output_type": "execute_result"
    }
   ],
   "source": [
    "data_rfm.head()"
   ]
  },
  {
   "cell_type": "code",
   "execution_count": 42,
   "metadata": {},
   "outputs": [
    {
     "data": {
      "image/png": "[encoded data removed]",
      "text/plain": [
       "<Figure size 640x480 with 1 Axes>"
      ]
     },
     "metadata": {},
     "output_type": "display_data"
    }
   ],
   "source": [
    "sns.boxplot(x='segment', y='TotalPrice',data=data_rfm)\n",
    "plt.ylim(-20, 100)\n",
    "plt.title(\"Box Plot of Total Price by RFM segment\")\n",
    "plt.xticks(rotation=90)\n",
    "plt.show()"
   ]
  },
  {
   "cell_type": "markdown",
   "metadata": {},
   "source": [
    "Whilst segmentation is useful, the boxplot above shows us a limitation- it does not help us identify which types of customers make the largest orders at once. We can try other forms of clustering to try get a greater insight into these customers"
   ]
  },
  {
   "cell_type": "markdown",
   "metadata": {},
   "source": [
    "# Clustering attempt"
   ]
  },
  {
   "cell_type": "markdown",
   "metadata": {},
   "source": [
    "Now, we can use clustering to see if we can enhance customer segmentation"
   ]
  },
  {
   "cell_type": "code",
   "execution_count": 43,
   "metadata": {},
   "outputs": [],
   "source": [
    "from sklearn.preprocessing import StandardScaler\n",
    "from sklearn.preprocessing import LabelEncoder\n",
    "## Impport PCA package\n",
    "from sklearn.decomposition import PCA\n",
    "## Import KElbowVisualizer and Kmeans\n",
    "from yellowbrick.cluster import KElbowVisualizer\n",
    "from sklearn.cluster import KMeans"
   ]
  },
  {
   "cell_type": "code",
   "execution_count": 44,
   "metadata": {},
   "outputs": [],
   "source": [
    "## We will only focus on a few features to help the clustering behave most efficiently\n",
    "features = ['TotalPrice', 'segment']"
   ]
  },
  {
   "cell_type": "markdown",
   "metadata": {},
   "source": [
    "I found outliers to be particularly troublesome, to the code below gets rid of them"
   ]
  },
  {
   "cell_type": "code",
   "execution_count": 45,
   "metadata": {},
   "outputs": [],
   "source": [
    "# Removing outliers from TotalPrice\n",
    "Q1 = data_rfm.TotalPrice.quantile(0.05)\n",
    "Q3 = data_rfm.TotalPrice.quantile(0.95)\n",
    "IQR = Q3 - Q1\n",
    "data_rfm = data_rfm[(data_rfm.TotalPrice >= Q1-1.5*IQR) & (data_rfm.TotalPrice <= Q3 + 1.5*IQR)]"
   ]
  },
  {
   "cell_type": "code",
   "execution_count": 46,
   "metadata": {},
   "outputs": [],
   "source": [
    "X = data_rfm[features]"
   ]
  },
  {
   "cell_type": "code",
   "execution_count": 47,
   "metadata": {},
   "outputs": [
    {
     "name": "stdout",
     "output_type": "stream",
     "text": [
      "(1043543, 2)\n"
     ]
    },
    {
     "data": {
      "text/html": [
       "<div>\n",
       "<style scoped>\n",
       "    .dataframe tbody tr th:only-of-type {\n",
       "        vertical-align: middle;\n",
       "    }\n",
       "\n",
       "    .dataframe tbody tr th {\n",
       "        vertical-align: top;\n",
       "    }\n",
       "\n",
       "    .dataframe thead th {\n",
       "        text-align: right;\n",
       "    }\n",
       "</style>\n",
       "<table border=\"1\" class=\"dataframe\">\n",
       "  <thead>\n",
       "    <tr style=\"text-align: right;\">\n",
       "      <th></th>\n",
       "      <th>TotalPrice</th>\n",
       "      <th>segment</th>\n",
       "    </tr>\n",
       "  </thead>\n",
       "  <tbody>\n",
       "    <tr>\n",
       "      <th>0</th>\n",
       "      <td>83.4</td>\n",
       "      <td>loyal_customers</td>\n",
       "    </tr>\n",
       "    <tr>\n",
       "      <th>1</th>\n",
       "      <td>81.0</td>\n",
       "      <td>loyal_customers</td>\n",
       "    </tr>\n",
       "    <tr>\n",
       "      <th>2</th>\n",
       "      <td>81.0</td>\n",
       "      <td>loyal_customers</td>\n",
       "    </tr>\n",
       "    <tr>\n",
       "      <th>3</th>\n",
       "      <td>100.8</td>\n",
       "      <td>loyal_customers</td>\n",
       "    </tr>\n",
       "    <tr>\n",
       "      <th>4</th>\n",
       "      <td>30.0</td>\n",
       "      <td>loyal_customers</td>\n",
       "    </tr>\n",
       "  </tbody>\n",
       "</table>\n",
       "</div>"
      ],
      "text/plain": [
       "   TotalPrice          segment\n",
       "0        83.4  loyal_customers\n",
       "1        81.0  loyal_customers\n",
       "2        81.0  loyal_customers\n",
       "3       100.8  loyal_customers\n",
       "4        30.0  loyal_customers"
      ]
     },
     "execution_count": 47,
     "metadata": {},
     "output_type": "execute_result"
    }
   ],
   "source": [
    "print(X.shape)\n",
    "X.head()"
   ]
  },
  {
   "cell_type": "code",
   "execution_count": 48,
   "metadata": {},
   "outputs": [
    {
     "name": "stderr",
     "output_type": "stream",
     "text": [
      "C:\\Users\\ksbha\\AppData\\Local\\Temp\\ipykernel_2464\\448666045.py:3: SettingWithCopyWarning: \n",
      "A value is trying to be set on a copy of a slice from a DataFrame.\n",
      "Try using .loc[row_indexer,col_indexer] = value instead\n",
      "\n",
      "See the caveats in the documentation: https://pandas.pydata.org/pandas-docs/stable/user_guide/indexing.html#returning-a-view-versus-a-copy\n",
      "  X['segment'] = le.fit_transform(X['segment'])\n"
     ]
    }
   ],
   "source": [
    "## Do label encoding on the 'segment' column to alllow K-means to work\n",
    "le = LabelEncoder()\n",
    "X['segment'] = le.fit_transform(X['segment'])"
   ]
  },
  {
   "cell_type": "code",
   "execution_count": 49,
   "metadata": {},
   "outputs": [],
   "source": [
    "## Scaling is important to make sure that no single feature (or group of features) dominate\n",
    "scaler = StandardScaler()\n",
    "retail_scaled = scaler.fit_transform(X)"
   ]
  },
  {
   "cell_type": "code",
   "execution_count": 50,
   "metadata": {},
   "outputs": [
    {
     "name": "stderr",
     "output_type": "stream",
     "text": [
      "d:\\Users\\ksbha\\miniconda3\\envs\\footy\\Lib\\site-packages\\sklearn\\cluster\\_kmeans.py:1416: FutureWarning: The default value of `n_init` will change from 10 to 'auto' in 1.4. Set the value of `n_init` explicitly to suppress the warning\n",
      "  super()._check_params_vs_input(X, default_n_init=10)\n",
      "d:\\Users\\ksbha\\miniconda3\\envs\\footy\\Lib\\site-packages\\sklearn\\cluster\\_kmeans.py:1416: FutureWarning: The default value of `n_init` will change from 10 to 'auto' in 1.4. Set the value of `n_init` explicitly to suppress the warning\n",
      "  super()._check_params_vs_input(X, default_n_init=10)\n",
      "d:\\Users\\ksbha\\miniconda3\\envs\\footy\\Lib\\site-packages\\sklearn\\cluster\\_kmeans.py:1416: FutureWarning: The default value of `n_init` will change from 10 to 'auto' in 1.4. Set the value of `n_init` explicitly to suppress the warning\n",
      "  super()._check_params_vs_input(X, default_n_init=10)\n",
      "d:\\Users\\ksbha\\miniconda3\\envs\\footy\\Lib\\site-packages\\sklearn\\cluster\\_kmeans.py:1416: FutureWarning: The default value of `n_init` will change from 10 to 'auto' in 1.4. Set the value of `n_init` explicitly to suppress the warning\n",
      "  super()._check_params_vs_input(X, default_n_init=10)\n",
      "d:\\Users\\ksbha\\miniconda3\\envs\\footy\\Lib\\site-packages\\sklearn\\cluster\\_kmeans.py:1416: FutureWarning: The default value of `n_init` will change from 10 to 'auto' in 1.4. Set the value of `n_init` explicitly to suppress the warning\n",
      "  super()._check_params_vs_input(X, default_n_init=10)\n",
      "d:\\Users\\ksbha\\miniconda3\\envs\\footy\\Lib\\site-packages\\sklearn\\cluster\\_kmeans.py:1416: FutureWarning: The default value of `n_init` will change from 10 to 'auto' in 1.4. Set the value of `n_init` explicitly to suppress the warning\n",
      "  super()._check_params_vs_input(X, default_n_init=10)\n",
      "d:\\Users\\ksbha\\miniconda3\\envs\\footy\\Lib\\site-packages\\sklearn\\cluster\\_kmeans.py:1416: FutureWarning: The default value of `n_init` will change from 10 to 'auto' in 1.4. Set the value of `n_init` explicitly to suppress the warning\n",
      "  super()._check_params_vs_input(X, default_n_init=10)\n",
      "d:\\Users\\ksbha\\miniconda3\\envs\\footy\\Lib\\site-packages\\sklearn\\cluster\\_kmeans.py:1416: FutureWarning: The default value of `n_init` will change from 10 to 'auto' in 1.4. Set the value of `n_init` explicitly to suppress the warning\n",
      "  super()._check_params_vs_input(X, default_n_init=10)\n",
      "d:\\Users\\ksbha\\miniconda3\\envs\\footy\\Lib\\site-packages\\sklearn\\cluster\\_kmeans.py:1416: FutureWarning: The default value of `n_init` will change from 10 to 'auto' in 1.4. Set the value of `n_init` explicitly to suppress the warning\n",
      "  super()._check_params_vs_input(X, default_n_init=10)\n"
     ]
    },
    {
     "data": {
      "image/png": "[encoded data removed]",
      "text/plain": [
       "<Figure size 800x550 with 2 Axes>"
      ]
     },
     "metadata": {},
     "output_type": "display_data"
    },
    {
     "data": {
      "text/plain": [
       "<Axes: title={'center': 'Distortion Score Elbow for KMeans Clustering'}, xlabel='k', ylabel='distortion score'>"
      ]
     },
     "execution_count": 50,
     "metadata": {},
     "output_type": "execute_result"
    }
   ],
   "source": [
    "#elbow viz for number of k's\n",
    "elbow_method = KElbowVisualizer(KMeans(random_state=42), k = 10)\n",
    "elbow_method.fit(retail_scaled)\n",
    "elbow_method.show()"
   ]
  },
  {
   "cell_type": "code",
   "execution_count": 51,
   "metadata": {},
   "outputs": [
    {
     "name": "stderr",
     "output_type": "stream",
     "text": [
      "d:\\Users\\ksbha\\miniconda3\\envs\\footy\\Lib\\site-packages\\sklearn\\cluster\\_kmeans.py:1416: FutureWarning: The default value of `n_init` will change from 10 to 'auto' in 1.4. Set the value of `n_init` explicitly to suppress the warning\n",
      "  super()._check_params_vs_input(X, default_n_init=10)\n"
     ]
    }
   ],
   "source": [
    "kmeans = KMeans(n_clusters = 4, random_state=42)\n",
    "kmeans_pred = kmeans.fit_predict(retail_scaled)"
   ]
  },
  {
   "cell_type": "markdown",
   "metadata": {},
   "source": [
    "We are focussing solely on customers here, so customers with No ID cannot be segmented with any great confidence, and they are therefore removed"
   ]
  },
  {
   "cell_type": "code",
   "execution_count": 52,
   "metadata": {},
   "outputs": [],
   "source": [
    "## Change retail_scaled into a Dataframe\n",
    "retail_scaled = pd.DataFrame(retail_scaled, columns=features)"
   ]
  },
  {
   "cell_type": "code",
   "execution_count": 53,
   "metadata": {},
   "outputs": [],
   "source": [
    "data_rfm['Cluster']= kmeans_pred \n",
    "retail_scaled['Cluster'] = kmeans_pred"
   ]
  },
  {
   "cell_type": "code",
   "execution_count": 54,
   "metadata": {},
   "outputs": [
    {
     "data": {
      "text/plain": [
       "<Axes: xlabel='Cluster', ylabel='TotalPrice'>"
      ]
     },
     "execution_count": 54,
     "metadata": {},
     "output_type": "execute_result"
    },
    {
     "data": {
      "image/png": "[encoded data removed]",
      "text/plain": [
       "<Figure size 800x550 with 1 Axes>"
      ]
     },
     "metadata": {},
     "output_type": "display_data"
    }
   ],
   "source": [
    "sns.boxplot(x='Cluster', y='TotalPrice',data=data_rfm)"
   ]
  },
  {
   "cell_type": "markdown",
   "metadata": {},
   "source": [
    "As shown in the plots above, we now have a cluster that identifies a group of customers that tend to spend more money on their individual transactions that other customer clusters. \n",
    "This can help the necessary stakeholders determine which customers they should target."
   ]
  },
  {
   "cell_type": "markdown",
   "metadata": {},
   "source": [
    "# CLTV calculations"
   ]
  },
  {
   "cell_type": "markdown",
   "metadata": {},
   "source": [
    "For the forecasting element of this project, we can start with Customer Lifetime Value (CLTV) calculations. This will help us determine how much revenue a customer will generate for the company over their lifetime"
   ]
  },
  {
   "cell_type": "code",
   "execution_count": 55,
   "metadata": {},
   "outputs": [],
   "source": [
    "from lifetimes import BetaGeoFitter\n",
    "from lifetimes import GammaGammaFitter\n",
    "from sklearn.preprocessing import MinMaxScaler"
   ]
  },
  {
   "cell_type": "code",
   "execution_count": 56,
   "metadata": {},
   "outputs": [],
   "source": [
    "## Make a copy of our original dataframe, and drop all rows with NaN values\n",
    "df = data.copy()\n",
    "# df.dropna(inplace=True)"
   ]
  },
  {
   "cell_type": "code",
   "execution_count": 57,
   "metadata": {},
   "outputs": [],
   "source": [
    "## For this examplle, we \n",
    "# df = df[~df[\"Invoice\"].astype('str').str.contains(\"C\", na=False)] "
   ]
  },
  {
   "cell_type": "code",
   "execution_count": 58,
   "metadata": {},
   "outputs": [],
   "source": [
    "cltv_df = df.groupby('Customer ID').agg({'InvoiceDate': [lambda date: (date.max() - date.min()).days,\n",
    "                                                         lambda date: (today_date - date.min()).days],\n",
    "                                         'Invoice': lambda num: num.nunique(),\n",
    "                                         'TotalPrice': lambda TotalPrice: TotalPrice.sum()})\n",
    "cltv_df.columns = ['recency', 'T', 'frequency', 'monetary']"
   ]
  },
  {
   "cell_type": "markdown",
   "metadata": {},
   "source": [
    "We don't use the RFM dataframe because we want to use the \"T\" function, which is the \"age\" of the customer i.e. how long they have been a customer for from today"
   ]
  },
  {
   "cell_type": "code",
   "execution_count": 59,
   "metadata": {},
   "outputs": [],
   "source": [
    "## We find the rate of purchase for each customer, focussing on those with a positive rate. \n",
    "cltv_df[\"mon/freq\"] = cltv_df[\"monetary\"] / cltv_df[\"frequency\"]\n",
    "cltv_df = cltv_df[cltv_df[\"mon/freq\"] > 0]"
   ]
  },
  {
   "cell_type": "code",
   "execution_count": 60,
   "metadata": {},
   "outputs": [],
   "source": [
    "# cltv_df[\"recency\"] = cltv_df[\"recency\"] / 7\n",
    "# cltv_df[\"T\"] = cltv_df[\"T\"] / 7"
   ]
  },
  {
   "cell_type": "code",
   "execution_count": 61,
   "metadata": {},
   "outputs": [],
   "source": [
    "cltv_df = cltv_df[(cltv_df['frequency'] > 1)]"
   ]
  },
  {
   "cell_type": "markdown",
   "metadata": {},
   "source": [
    "The BetaGeoFitter model assumes that the number of transactions made by a customer follows a Negative Binomial Distribution. It is used to predict the purchasing behavior of customers over time."
   ]
  },
  {
   "cell_type": "code",
   "execution_count": 62,
   "metadata": {},
   "outputs": [
    {
     "data": {
      "text/plain": [
       "<lifetimes.BetaGeoFitter: fitted with 4438 subjects, a: 0.27, alpha: 56.16, b: 3.25, r: 1.56>"
      ]
     },
     "execution_count": 62,
     "metadata": {},
     "output_type": "execute_result"
    }
   ],
   "source": [
    "bgf = BetaGeoFitter(penalizer_coef=0.001)\n",
    "\n",
    "bgf.fit(cltv_df['frequency'],\n",
    "        cltv_df['recency'],\n",
    "        cltv_df['T'])"
   ]
  },
  {
   "cell_type": "markdown",
   "metadata": {},
   "source": [
    "The Gamma-Gamma model is used to predict the monetary value of customer transactions. The model assumes that the monetary value of a customer’s transactions is independent of the transaction process."
   ]
  },
  {
   "cell_type": "code",
   "execution_count": 63,
   "metadata": {},
   "outputs": [
    {
     "data": {
      "text/plain": [
       "<lifetimes.GammaGammaFitter: fitted with 4438 subjects, p: 1.75, q: 0.19, v: 2.96>"
      ]
     },
     "execution_count": 63,
     "metadata": {},
     "output_type": "execute_result"
    }
   ],
   "source": [
    "ggf = GammaGammaFitter(penalizer_coef=0.01)\n",
    "ggf.fit(cltv_df['frequency'], cltv_df['monetary'])"
   ]
  },
  {
   "cell_type": "markdown",
   "metadata": {},
   "source": [
    "We can use the two models in conjunction to calcualte the CLTV of each customer across a 6-month period at a weekly frequency"
   ]
  },
  {
   "cell_type": "code",
   "execution_count": 64,
   "metadata": {},
   "outputs": [],
   "source": [
    "cltv = ggf.customer_lifetime_value(bgf,\n",
    "                                   cltv_df['frequency'],\n",
    "                                   cltv_df['recency'],\n",
    "                                   cltv_df['T'],\n",
    "                                   cltv_df['monetary'],\n",
    "                                   time=6,\n",
    "                                   freq=\"W\",  \n",
    "                                   discount_rate=0.01)"
   ]
  },
  {
   "cell_type": "code",
   "execution_count": 65,
   "metadata": {},
   "outputs": [],
   "source": [
    "cltv = cltv.reset_index()\n",
    "cltv.columns = [\"Customer ID\", \"clv\"]\n",
    "cltv.sort_values(by=\"clv\", ascending=False).head(50)\n",
    "cltv_final = cltv_df.merge(cltv, on=\"Customer ID\", how=\"left\")"
   ]
  },
  {
   "cell_type": "code",
   "execution_count": 66,
   "metadata": {},
   "outputs": [
    {
     "data": {
      "text/html": [
       "<div>\n",
       "<style scoped>\n",
       "    .dataframe tbody tr th:only-of-type {\n",
       "        vertical-align: middle;\n",
       "    }\n",
       "\n",
       "    .dataframe tbody tr th {\n",
       "        vertical-align: top;\n",
       "    }\n",
       "\n",
       "    .dataframe thead th {\n",
       "        text-align: right;\n",
       "    }\n",
       "</style>\n",
       "<table border=\"1\" class=\"dataframe\">\n",
       "  <thead>\n",
       "    <tr style=\"text-align: right;\">\n",
       "      <th></th>\n",
       "      <th>Customer ID</th>\n",
       "      <th>recency</th>\n",
       "      <th>T</th>\n",
       "      <th>frequency</th>\n",
       "      <th>monetary</th>\n",
       "      <th>mon/freq</th>\n",
       "      <th>clv</th>\n",
       "    </tr>\n",
       "  </thead>\n",
       "  <tbody>\n",
       "    <tr>\n",
       "      <th>1926</th>\n",
       "      <td>14911.0</td>\n",
       "      <td>737</td>\n",
       "      <td>739</td>\n",
       "      <td>506</td>\n",
       "      <td>269685.17</td>\n",
       "      <td>532.974644</td>\n",
       "      <td>4.312166e+06</td>\n",
       "    </tr>\n",
       "    <tr>\n",
       "      <th>4308</th>\n",
       "      <td>18102.0</td>\n",
       "      <td>738</td>\n",
       "      <td>739</td>\n",
       "      <td>153</td>\n",
       "      <td>598215.22</td>\n",
       "      <td>3909.903399</td>\n",
       "      <td>2.918452e+06</td>\n",
       "    </tr>\n",
       "    <tr>\n",
       "      <th>1729</th>\n",
       "      <td>14646.0</td>\n",
       "      <td>735</td>\n",
       "      <td>738</td>\n",
       "      <td>163</td>\n",
       "      <td>523342.07</td>\n",
       "      <td>3210.687546</td>\n",
       "      <td>2.718756e+06</td>\n",
       "    </tr>\n",
       "    <tr>\n",
       "      <th>1358</th>\n",
       "      <td>14156.0</td>\n",
       "      <td>728</td>\n",
       "      <td>739</td>\n",
       "      <td>196</td>\n",
       "      <td>296025.40</td>\n",
       "      <td>1510.333673</td>\n",
       "      <td>1.810374e+06</td>\n",
       "    </tr>\n",
       "    <tr>\n",
       "      <th>1004</th>\n",
       "      <td>13694.0</td>\n",
       "      <td>731</td>\n",
       "      <td>736</td>\n",
       "      <td>164</td>\n",
       "      <td>190825.52</td>\n",
       "      <td>1163.570244</td>\n",
       "      <td>9.982887e+05</td>\n",
       "    </tr>\n",
       "    <tr>\n",
       "      <th>2229</th>\n",
       "      <td>15311.0</td>\n",
       "      <td>738</td>\n",
       "      <td>739</td>\n",
       "      <td>270</td>\n",
       "      <td>113513.07</td>\n",
       "      <td>420.418778</td>\n",
       "      <td>9.723799e+05</td>\n",
       "    </tr>\n",
       "    <tr>\n",
       "      <th>554</th>\n",
       "      <td>13089.0</td>\n",
       "      <td>734</td>\n",
       "      <td>738</td>\n",
       "      <td>247</td>\n",
       "      <td>113214.19</td>\n",
       "      <td>458.357045</td>\n",
       "      <td>8.868327e+05</td>\n",
       "    </tr>\n",
       "    <tr>\n",
       "      <th>3836</th>\n",
       "      <td>17450.0</td>\n",
       "      <td>429</td>\n",
       "      <td>439</td>\n",
       "      <td>61</td>\n",
       "      <td>233579.39</td>\n",
       "      <td>3829.170328</td>\n",
       "      <td>7.327608e+05</td>\n",
       "    </tr>\n",
       "    <tr>\n",
       "      <th>4137</th>\n",
       "      <td>17841.0</td>\n",
       "      <td>735</td>\n",
       "      <td>738</td>\n",
       "      <td>289</td>\n",
       "      <td>69516.19</td>\n",
       "      <td>240.540450</td>\n",
       "      <td>6.370091e+05</td>\n",
       "    </tr>\n",
       "    <tr>\n",
       "      <th>2037</th>\n",
       "      <td>15061.0</td>\n",
       "      <td>734</td>\n",
       "      <td>739</td>\n",
       "      <td>138</td>\n",
       "      <td>136391.48</td>\n",
       "      <td>988.344058</td>\n",
       "      <td>5.995280e+05</td>\n",
       "    </tr>\n",
       "  </tbody>\n",
       "</table>\n",
       "</div>"
      ],
      "text/plain": [
       "      Customer ID  recency    T  frequency   monetary     mon/freq   \n",
       "1926      14911.0      737  739        506  269685.17   532.974644  \\\n",
       "4308      18102.0      738  739        153  598215.22  3909.903399   \n",
       "1729      14646.0      735  738        163  523342.07  3210.687546   \n",
       "1358      14156.0      728  739        196  296025.40  1510.333673   \n",
       "1004      13694.0      731  736        164  190825.52  1163.570244   \n",
       "2229      15311.0      738  739        270  113513.07   420.418778   \n",
       "554       13089.0      734  738        247  113214.19   458.357045   \n",
       "3836      17450.0      429  439         61  233579.39  3829.170328   \n",
       "4137      17841.0      735  738        289   69516.19   240.540450   \n",
       "2037      15061.0      734  739        138  136391.48   988.344058   \n",
       "\n",
       "               clv  \n",
       "1926  4.312166e+06  \n",
       "4308  2.918452e+06  \n",
       "1729  2.718756e+06  \n",
       "1358  1.810374e+06  \n",
       "1004  9.982887e+05  \n",
       "2229  9.723799e+05  \n",
       "554   8.868327e+05  \n",
       "3836  7.327608e+05  \n",
       "4137  6.370091e+05  \n",
       "2037  5.995280e+05  "
      ]
     },
     "execution_count": 66,
     "metadata": {},
     "output_type": "execute_result"
    }
   ],
   "source": [
    "cltv_final.sort_values(by=\"clv\", ascending=False).head(10)"
   ]
  },
  {
   "cell_type": "code",
   "execution_count": 67,
   "metadata": {},
   "outputs": [],
   "source": [
    "# Standardization of CLTV\n",
    "scaler = MinMaxScaler(feature_range=(0, 1))\n",
    "scaler.fit(cltv_final[[\"clv\"]])\n",
    "cltv_final[\"scaled_clv\"] = scaler.transform(cltv_final[[\"clv\"]])"
   ]
  },
  {
   "cell_type": "code",
   "execution_count": 68,
   "metadata": {},
   "outputs": [],
   "source": [
    "## Add \"segment\" column to cltv_final to see which segments are most valuable\n",
    "cltv_final = cltv_final.merge(rfm[[\"segment\"]], how='left', on='Customer ID')"
   ]
  },
  {
   "cell_type": "code",
   "execution_count": 69,
   "metadata": {},
   "outputs": [
    {
     "data": {
      "text/html": [
       "<div>\n",
       "<style scoped>\n",
       "    .dataframe tbody tr th:only-of-type {\n",
       "        vertical-align: middle;\n",
       "    }\n",
       "\n",
       "    .dataframe tbody tr th {\n",
       "        vertical-align: top;\n",
       "    }\n",
       "\n",
       "    .dataframe thead th {\n",
       "        text-align: right;\n",
       "    }\n",
       "</style>\n",
       "<table border=\"1\" class=\"dataframe\">\n",
       "  <thead>\n",
       "    <tr style=\"text-align: right;\">\n",
       "      <th></th>\n",
       "      <th>Customer ID</th>\n",
       "      <th>recency</th>\n",
       "      <th>T</th>\n",
       "      <th>frequency</th>\n",
       "      <th>monetary</th>\n",
       "      <th>mon/freq</th>\n",
       "      <th>clv</th>\n",
       "      <th>scaled_clv</th>\n",
       "      <th>segment</th>\n",
       "    </tr>\n",
       "  </thead>\n",
       "  <tbody>\n",
       "    <tr>\n",
       "      <th>1926</th>\n",
       "      <td>14911.0</td>\n",
       "      <td>737</td>\n",
       "      <td>739</td>\n",
       "      <td>506</td>\n",
       "      <td>269685.17</td>\n",
       "      <td>532.974644</td>\n",
       "      <td>4.312166e+06</td>\n",
       "      <td>1.000000</td>\n",
       "      <td>champions</td>\n",
       "    </tr>\n",
       "    <tr>\n",
       "      <th>4308</th>\n",
       "      <td>18102.0</td>\n",
       "      <td>738</td>\n",
       "      <td>739</td>\n",
       "      <td>153</td>\n",
       "      <td>598215.22</td>\n",
       "      <td>3909.903399</td>\n",
       "      <td>2.918452e+06</td>\n",
       "      <td>0.676795</td>\n",
       "      <td>champions</td>\n",
       "    </tr>\n",
       "    <tr>\n",
       "      <th>1729</th>\n",
       "      <td>14646.0</td>\n",
       "      <td>735</td>\n",
       "      <td>738</td>\n",
       "      <td>163</td>\n",
       "      <td>523342.07</td>\n",
       "      <td>3210.687546</td>\n",
       "      <td>2.718756e+06</td>\n",
       "      <td>0.630485</td>\n",
       "      <td>champions</td>\n",
       "    </tr>\n",
       "    <tr>\n",
       "      <th>1358</th>\n",
       "      <td>14156.0</td>\n",
       "      <td>728</td>\n",
       "      <td>739</td>\n",
       "      <td>196</td>\n",
       "      <td>296025.40</td>\n",
       "      <td>1510.333673</td>\n",
       "      <td>1.810374e+06</td>\n",
       "      <td>0.419829</td>\n",
       "      <td>champions</td>\n",
       "    </tr>\n",
       "    <tr>\n",
       "      <th>1004</th>\n",
       "      <td>13694.0</td>\n",
       "      <td>731</td>\n",
       "      <td>736</td>\n",
       "      <td>164</td>\n",
       "      <td>190825.52</td>\n",
       "      <td>1163.570244</td>\n",
       "      <td>9.982887e+05</td>\n",
       "      <td>0.231505</td>\n",
       "      <td>champions</td>\n",
       "    </tr>\n",
       "    <tr>\n",
       "      <th>2229</th>\n",
       "      <td>15311.0</td>\n",
       "      <td>738</td>\n",
       "      <td>739</td>\n",
       "      <td>270</td>\n",
       "      <td>113513.07</td>\n",
       "      <td>420.418778</td>\n",
       "      <td>9.723799e+05</td>\n",
       "      <td>0.225497</td>\n",
       "      <td>champions</td>\n",
       "    </tr>\n",
       "    <tr>\n",
       "      <th>554</th>\n",
       "      <td>13089.0</td>\n",
       "      <td>734</td>\n",
       "      <td>738</td>\n",
       "      <td>247</td>\n",
       "      <td>113214.19</td>\n",
       "      <td>458.357045</td>\n",
       "      <td>8.868327e+05</td>\n",
       "      <td>0.205658</td>\n",
       "      <td>champions</td>\n",
       "    </tr>\n",
       "    <tr>\n",
       "      <th>3836</th>\n",
       "      <td>17450.0</td>\n",
       "      <td>429</td>\n",
       "      <td>439</td>\n",
       "      <td>61</td>\n",
       "      <td>233579.39</td>\n",
       "      <td>3829.170328</td>\n",
       "      <td>7.327608e+05</td>\n",
       "      <td>0.169929</td>\n",
       "      <td>champions</td>\n",
       "    </tr>\n",
       "    <tr>\n",
       "      <th>4137</th>\n",
       "      <td>17841.0</td>\n",
       "      <td>735</td>\n",
       "      <td>738</td>\n",
       "      <td>289</td>\n",
       "      <td>69516.19</td>\n",
       "      <td>240.540450</td>\n",
       "      <td>6.370091e+05</td>\n",
       "      <td>0.147724</td>\n",
       "      <td>champions</td>\n",
       "    </tr>\n",
       "    <tr>\n",
       "      <th>2037</th>\n",
       "      <td>15061.0</td>\n",
       "      <td>734</td>\n",
       "      <td>739</td>\n",
       "      <td>138</td>\n",
       "      <td>136391.48</td>\n",
       "      <td>988.344058</td>\n",
       "      <td>5.995280e+05</td>\n",
       "      <td>0.139032</td>\n",
       "      <td>champions</td>\n",
       "    </tr>\n",
       "  </tbody>\n",
       "</table>\n",
       "</div>"
      ],
      "text/plain": [
       "      Customer ID  recency    T  frequency   monetary     mon/freq   \n",
       "1926      14911.0      737  739        506  269685.17   532.974644  \\\n",
       "4308      18102.0      738  739        153  598215.22  3909.903399   \n",
       "1729      14646.0      735  738        163  523342.07  3210.687546   \n",
       "1358      14156.0      728  739        196  296025.40  1510.333673   \n",
       "1004      13694.0      731  736        164  190825.52  1163.570244   \n",
       "2229      15311.0      738  739        270  113513.07   420.418778   \n",
       "554       13089.0      734  738        247  113214.19   458.357045   \n",
       "3836      17450.0      429  439         61  233579.39  3829.170328   \n",
       "4137      17841.0      735  738        289   69516.19   240.540450   \n",
       "2037      15061.0      734  739        138  136391.48   988.344058   \n",
       "\n",
       "               clv  scaled_clv    segment  \n",
       "1926  4.312166e+06    1.000000  champions  \n",
       "4308  2.918452e+06    0.676795  champions  \n",
       "1729  2.718756e+06    0.630485  champions  \n",
       "1358  1.810374e+06    0.419829  champions  \n",
       "1004  9.982887e+05    0.231505  champions  \n",
       "2229  9.723799e+05    0.225497  champions  \n",
       "554   8.868327e+05    0.205658  champions  \n",
       "3836  7.327608e+05    0.169929  champions  \n",
       "4137  6.370091e+05    0.147724  champions  \n",
       "2037  5.995280e+05    0.139032  champions  "
      ]
     },
     "execution_count": 69,
     "metadata": {},
     "output_type": "execute_result"
    }
   ],
   "source": [
    "cltv_final.sort_values(by=\"scaled_clv\", ascending=False).head(10)"
   ]
  },
  {
   "cell_type": "markdown",
   "metadata": {},
   "source": [
    "As expected, champions are the most valuable customers. This is because they have the highest frequency and monetary values"
   ]
  },
  {
   "cell_type": "markdown",
   "metadata": {},
   "source": [
    "## Perform ARIMA on the one of the clusters:"
   ]
  },
  {
   "cell_type": "markdown",
   "metadata": {},
   "source": [
    "I'll perform ARIMA on the cluster with the highest Total Price to try and forecast on time-sereis data.\n",
    "\n",
    "In particular, I am using seasonal ARIMA to account for the seasonality in the data, and forecast projections for the next year on a monthly and weekly frequency."
   ]
  },
  {
   "cell_type": "code",
   "execution_count": 70,
   "metadata": {},
   "outputs": [],
   "source": [
    "import statsmodels.api as sm"
   ]
  },
  {
   "cell_type": "code",
   "execution_count": 71,
   "metadata": {},
   "outputs": [
    {
     "data": {
      "text/html": [
       "<div>\n",
       "<style scoped>\n",
       "    .dataframe tbody tr th:only-of-type {\n",
       "        vertical-align: middle;\n",
       "    }\n",
       "\n",
       "    .dataframe tbody tr th {\n",
       "        vertical-align: top;\n",
       "    }\n",
       "\n",
       "    .dataframe thead tr th {\n",
       "        text-align: left;\n",
       "    }\n",
       "\n",
       "    .dataframe thead tr:last-of-type th {\n",
       "        text-align: right;\n",
       "    }\n",
       "</style>\n",
       "<table border=\"1\" class=\"dataframe\">\n",
       "  <thead>\n",
       "    <tr>\n",
       "      <th></th>\n",
       "      <th colspan=\"4\" halign=\"left\">TotalPrice</th>\n",
       "    </tr>\n",
       "    <tr>\n",
       "      <th></th>\n",
       "      <th>sum</th>\n",
       "      <th>mean</th>\n",
       "      <th>count</th>\n",
       "      <th>median</th>\n",
       "    </tr>\n",
       "    <tr>\n",
       "      <th>Cluster</th>\n",
       "      <th></th>\n",
       "      <th></th>\n",
       "      <th></th>\n",
       "      <th></th>\n",
       "    </tr>\n",
       "  </thead>\n",
       "  <tbody>\n",
       "    <tr>\n",
       "      <th>0</th>\n",
       "      <td>2253532.992</td>\n",
       "      <td>7.948662</td>\n",
       "      <td>283511</td>\n",
       "      <td>5.1</td>\n",
       "    </tr>\n",
       "    <tr>\n",
       "      <th>1</th>\n",
       "      <td>3561976.186</td>\n",
       "      <td>11.722117</td>\n",
       "      <td>303868</td>\n",
       "      <td>10.2</td>\n",
       "    </tr>\n",
       "    <tr>\n",
       "      <th>2</th>\n",
       "      <td>4122431.490</td>\n",
       "      <td>76.031566</td>\n",
       "      <td>54220</td>\n",
       "      <td>69.6</td>\n",
       "    </tr>\n",
       "    <tr>\n",
       "      <th>3</th>\n",
       "      <td>4702259.489</td>\n",
       "      <td>11.698793</td>\n",
       "      <td>401944</td>\n",
       "      <td>10.2</td>\n",
       "    </tr>\n",
       "  </tbody>\n",
       "</table>\n",
       "</div>"
      ],
      "text/plain": [
       "          TotalPrice                          \n",
       "                 sum       mean   count median\n",
       "Cluster                                       \n",
       "0        2253532.992   7.948662  283511    5.1\n",
       "1        3561976.186  11.722117  303868   10.2\n",
       "2        4122431.490  76.031566   54220   69.6\n",
       "3        4702259.489  11.698793  401944   10.2"
      ]
     },
     "execution_count": 71,
     "metadata": {},
     "output_type": "execute_result"
    }
   ],
   "source": [
    "data_rfm.groupby('Cluster').agg({\n",
    "    'TotalPrice': ['sum', 'mean', 'count','median'],\n",
    "})"
   ]
  },
  {
   "cell_type": "markdown",
   "metadata": {},
   "source": [
    "As shown above, Cluster 4, on average, generates the most revenue. We will use this cluster to forecast CLTV"
   ]
  },
  {
   "cell_type": "code",
   "execution_count": 72,
   "metadata": {},
   "outputs": [],
   "source": [
    "cluster_group = data_rfm.groupby('Cluster').agg({\n",
    "    'TotalPrice': ['mean', 'median'],\n",
    "})"
   ]
  },
  {
   "cell_type": "code",
   "execution_count": 73,
   "metadata": {},
   "outputs": [],
   "source": [
    "## Find cluster with highest media in cluster_group\n",
    "cluster_max = cluster_group[cluster_group['TotalPrice']['median'] == cluster_group['TotalPrice']['median'].max()].index"
   ]
  },
  {
   "cell_type": "code",
   "execution_count": 74,
   "metadata": {},
   "outputs": [
    {
     "data": {
      "text/plain": [
       "2"
      ]
     },
     "execution_count": 74,
     "metadata": {},
     "output_type": "execute_result"
    }
   ],
   "source": [
    "cluster_max[0]"
   ]
  },
  {
   "cell_type": "code",
   "execution_count": 75,
   "metadata": {},
   "outputs": [],
   "source": [
    "Cluster_oi = data_rfm[data_rfm.Cluster == cluster_max[0]]"
   ]
  },
  {
   "cell_type": "code",
   "execution_count": 76,
   "metadata": {},
   "outputs": [],
   "source": [
    "Cluster_oi.set_index('InvoiceDate', inplace=True)"
   ]
  },
  {
   "cell_type": "markdown",
   "metadata": {},
   "source": [
    "We can segregate our data into monthly allocations, and plot the graph shown below:"
   ]
  },
  {
   "cell_type": "code",
   "execution_count": 77,
   "metadata": {},
   "outputs": [],
   "source": [
    "monthly_sales = Cluster_oi['TotalPrice'].resample('M').sum()\n",
    "weekly_sales = Cluster_oi['TotalPrice'].resample('W').sum()"
   ]
  },
  {
   "cell_type": "code",
   "execution_count": 78,
   "metadata": {},
   "outputs": [
    {
     "data": {
      "image/png": "[encoded data removed]",
      "text/plain": [
       "<Figure size 800x550 with 1 Axes>"
      ]
     },
     "metadata": {},
     "output_type": "display_data"
    }
   ],
   "source": [
    "monthly_sales.plot()\n",
    "weekly_sales.plot()\n",
    "plt.ylabel('Total Revenue (Monthly and Weekly)')\n",
    "plt.legend(['Monthly', 'Weekly'])\n",
    "plt.show()"
   ]
  },
  {
   "cell_type": "markdown",
   "metadata": {},
   "source": [
    "Now, we can perform a manual parameter search to find the best parameters for our Seasonal ARIMA model (p, d and q parameters), as well as the seasonal parameters (P, D and Q), and the seasonal period (S).\n",
    "\n",
    "At first, we will focus on a monthly frequency."
   ]
  },
  {
   "cell_type": "code",
   "execution_count": 79,
   "metadata": {},
   "outputs": [
    {
     "name": "stdout",
     "output_type": "stream",
     "text": [
      "Best SARIMA model: (0, 0, 0) (0, 2, 0, 12) AIC: 2.0\n"
     ]
    }
   ],
   "source": [
    "import statsmodels.api as sm\n",
    "import itertools\n",
    "import warnings\n",
    "warnings.filterwarnings('ignore')\n",
    "\n",
    "# p, d, q and seasonal p, d, q parameters to take any value between 0 and 2\n",
    "p = d = q = range(0, 3)\n",
    "pdq = list(itertools.product(p, d, q))\n",
    "seasonal_pdq = [(x[0], x[1], x[2], 12) for x in pdq]\n",
    "\n",
    "lowest_aic = np.inf\n",
    "best_pdq = None\n",
    "best_seasonal_pdq = None\n",
    "\n",
    "for param in pdq:\n",
    "    for param_seasonal in seasonal_pdq:\n",
    "        try:\n",
    "            sarima_model = sm.tsa.SARIMAX(monthly_sales,\n",
    "                                          order=param,\n",
    "                                          seasonal_order=param_seasonal,\n",
    "                                          enforce_stationarity=False,\n",
    "                                          enforce_invertibility=False)\n",
    "            results = sarima_model.fit()\n",
    "            if results.aic < lowest_aic:\n",
    "                lowest_aic = results.aic\n",
    "                best_pdq = param\n",
    "                best_seasonal_pdq = param_seasonal\n",
    "        except:\n",
    "            continue\n",
    "\n",
    "print('Best SARIMA model:', best_pdq, best_seasonal_pdq, 'AIC:', lowest_aic)\n"
   ]
  },
  {
   "cell_type": "code",
   "execution_count": 80,
   "metadata": {},
   "outputs": [],
   "source": [
    "sarima_model = sm.tsa.SARIMAX(monthly_sales,\n",
    "                              order=(0, 0, 0),\n",
    "                              seasonal_order=(0, 2, 0, 12),\n",
    "                              enforce_stationarity=False,\n",
    "                              enforce_invertibility=False)\n",
    "\n",
    "results = sarima_model.fit()"
   ]
  },
  {
   "cell_type": "code",
   "execution_count": 81,
   "metadata": {},
   "outputs": [],
   "source": [
    "forecast = results.get_forecast(steps=12)  # Forecast the next 12 months\n",
    "forecast_mean = forecast.predicted_mean\n",
    "forecast_conf_int = forecast.conf_int()"
   ]
  },
  {
   "cell_type": "code",
   "execution_count": 82,
   "metadata": {},
   "outputs": [],
   "source": [
    "forecast_estimate = forecast_mean"
   ]
  },
  {
   "cell_type": "code",
   "execution_count": 83,
   "metadata": {},
   "outputs": [
    {
     "data": {
      "image/png": "[encoded data removed]",
      "text/plain": [
       "<Figure size 1000x600 with 1 Axes>"
      ]
     },
     "metadata": {},
     "output_type": "display_data"
    }
   ],
   "source": [
    "plt.figure(figsize=(10, 6))\n",
    "plt.plot(monthly_sales.index, monthly_sales, label='Observed')\n",
    "plt.plot(forecast_estimate.index, forecast_estimate, color='red', label='Forecast')\n",
    "plt.fill_between(forecast_conf_int.index, \n",
    "                 forecast_conf_int.iloc[:, 0], \n",
    "                 forecast_conf_int.iloc[:, 1], color='pink')\n",
    "plt.title('Monthly Sales Forecast')\n",
    "plt.xlabel('Date')\n",
    "plt.ylabel('Sales')\n",
    "plt.legend()\n",
    "plt.show()"
   ]
  },
  {
   "cell_type": "markdown",
   "metadata": {},
   "source": [
    "As seen above, the forecast is able to account for the seasonality, especially the Christmas season. However, it is not able to capture January, so this last data point can be ignored"
   ]
  },
  {
   "cell_type": "code",
   "execution_count": 84,
   "metadata": {},
   "outputs": [
    {
     "name": "stdout",
     "output_type": "stream",
     "text": [
      "Best SARIMA model: (0, 0, 0) (0, 2, 0, 52) AIC: 2.0\n"
     ]
    }
   ],
   "source": [
    "import warnings\n",
    "warnings.filterwarnings('ignore')\n",
    "\n",
    "# The p, d, q and seasonal p, d, q parameters can take any value between 0 and 2\n",
    "p = d = q = range(0, 3)\n",
    "pdq = list(itertools.product(p, d, q))\n",
    "seasonal_pdq = [(x[0], x[1], x[2], 52) for x in pdq]\n",
    "\n",
    "lowest_aic = np.inf\n",
    "best_pdq = None\n",
    "best_seasonal_pdq = None\n",
    "\n",
    "for param in pdq:\n",
    "    for param_seasonal in seasonal_pdq:\n",
    "        try:\n",
    "            sarima_model = sm.tsa.SARIMAX(weekly_sales[1:-1],\n",
    "                                          order=param,\n",
    "                                          seasonal_order=param_seasonal,\n",
    "                                          enforce_stationarity=False,\n",
    "                                          enforce_invertibility=False)\n",
    "            results = sarima_model.fit()\n",
    "            if results.aic < lowest_aic:\n",
    "                lowest_aic = results.aic\n",
    "                best_pdq = param\n",
    "                best_seasonal_pdq = param_seasonal\n",
    "        except:\n",
    "            continue\n",
    "\n",
    "print('Best SARIMA model:', best_pdq, best_seasonal_pdq, 'AIC:', lowest_aic)\n"
   ]
  },
  {
   "cell_type": "code",
   "execution_count": 85,
   "metadata": {},
   "outputs": [],
   "source": [
    "sarima_model = sm.tsa.SARIMAX(weekly_sales,\n",
    "                              order=(0, 0, 0),\n",
    "                              seasonal_order=(0, 2, 0, 52),\n",
    "                              enforce_stationarity=False,\n",
    "                              enforce_invertibility=False)\n",
    "\n",
    "results = sarima_model.fit()"
   ]
  },
  {
   "cell_type": "code",
   "execution_count": 86,
   "metadata": {},
   "outputs": [],
   "source": [
    "forecast = results.get_forecast(steps=52)  # Forecast the next 12 months\n",
    "forecast_mean = forecast.predicted_mean\n",
    "forecast_conf_int = forecast.conf_int()"
   ]
  },
  {
   "cell_type": "code",
   "execution_count": 87,
   "metadata": {},
   "outputs": [],
   "source": [
    "forecast_estimate = forecast_mean"
   ]
  },
  {
   "cell_type": "code",
   "execution_count": 88,
   "metadata": {},
   "outputs": [
    {
     "data": {
      "image/png": "[encoded data removed]",
      "text/plain": [
       "<Figure size 1000x600 with 1 Axes>"
      ]
     },
     "metadata": {},
     "output_type": "display_data"
    }
   ],
   "source": [
    "plt.figure(figsize=(10, 6))\n",
    "plt.plot(weekly_sales.index, weekly_sales, label='Observed')\n",
    "plt.plot(forecast_estimate.index, forecast_estimate, color='red', label='Forecast')\n",
    "plt.fill_between(forecast_conf_int.index, \n",
    "                 forecast_conf_int.iloc[:, 0], \n",
    "                 forecast_conf_int.iloc[:, 1], color='pink')\n",
    "plt.title('Weekly Sales Forecast')\n",
    "plt.xlabel('Date')\n",
    "plt.ylabel('Sales')\n",
    "plt.legend()\n",
    "plt.show()"
   ]
  },
  {
   "cell_type": "markdown",
   "metadata": {},
   "source": [
    "The weekly model seems to form a decent estimation of the trend expected"
   ]
  },
  {
   "cell_type": "markdown",
   "metadata": {},
   "source": [
    "#### Further considerations:\n",
    "- See what enhanceents product clustering or categorization can bring in terms of enhanced customer segmentation"
   ]
  }
 ],
 "metadata": {
  "kernelspec": {
   "display_name": "footy",
   "language": "python",
   "name": "python3"
  },
  "language_info": {
   "codemirror_mode": {
    "name": "ipython",
    "version": 3
   },
   "file_extension": ".py",
   "mimetype": "text/x-python",
   "name": "python",
   "nbconvert_exporter": "python",
   "pygments_lexer": "ipython3",
   "version": "3.11.5"
  }
 },
 "nbformat": 4,
 "nbformat_minor": 2
}
